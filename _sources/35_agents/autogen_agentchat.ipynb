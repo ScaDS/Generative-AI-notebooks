{
 "cells": [
  {
   "cell_type": "markdown",
   "id": "061c7611-1ba7-4f36-81e3-5a2bc1a7f5c7",
   "metadata": {},
   "source": [
    "# Autogen Agentchat\n",
    "\n",
    "The agentic framework [autogen](https://github.com/microsoft/autogen) allows combining functions/tools, memory and LLMs to so called \"agents\". These agents can solve tasks prompted using human language.\n",
    "\n",
    "Read more\n",
    "* [Agents in the Autogen documentation](https://microsoft.github.io/autogen/0.4.0.dev11/user-guide/agentchat-user-guide/tutorial/agents.html)"
   ]
  },
  {
   "cell_type": "code",
   "execution_count": 1,
   "id": "f49de1ff-67d8-4b61-bd12-0fa689f85bf9",
   "metadata": {},
   "outputs": [],
   "source": [
    "import autogen_core\n",
    "from autogen_agentchat.agents import AssistantAgent\n",
    "from autogen_agentchat.messages import TextMessage\n",
    "from autogen_core import CancellationToken\n",
    "from autogen_ext.models.openai import OpenAIChatCompletionClient\n",
    "import random\n",
    "\n",
    "from IPython.display import Markdown, display\n",
    "import asyncio\n",
    "\n",
    "from agent_tools import print_messages"
   ]
  },
  {
   "cell_type": "markdown",
   "id": "540e22cd-5faa-4d5c-afb3-13949cfb73da",
   "metadata": {},
   "source": [
    "For demonstration purposes we define two math functions. To ensure that the LLM does not try to do math by itself, we define a new operator, where the LLM cannot know what it does and has to call the function."
   ]
  },
  {
   "cell_type": "code",
   "execution_count": 2,
   "id": "00044b09-7f23-4601-a293-137170a5b4ee",
   "metadata": {},
   "outputs": [],
   "source": [
    "# Define tools that do fantasy math\n",
    "async def generate_random_number() -> int:\n",
    "    \"\"\"Generate a random number between 0 and 100\"\"\"\n",
    "    return random.randint(0, 100)\n",
    "\n",
    "async def roberts_operator(a:int, b:int) -> int:\n",
    "    \"\"\"Apply Robert's operator to a and b\"\"\"\n",
    "    return a * b + 1"
   ]
  },
  {
   "cell_type": "markdown",
   "id": "9ffe6920-cb3c-4d42-a383-31a4b117f1c1",
   "metadata": {},
   "source": [
    "We furthermore define an agent. Agents consist of a list of tools, a connector/client to an LLM and a system message."
   ]
  },
  {
   "cell_type": "code",
   "execution_count": 3,
   "id": "0a05c9d0-cd09-4a21-b504-cd9916536c5a",
   "metadata": {},
   "outputs": [],
   "source": [
    "# Create an agent that uses the OpenAI GPT-4o model.\n",
    "model_client = OpenAIChatCompletionClient(\n",
    "    model=\"gpt-4o\",\n",
    "    # api_key=\"YOUR_API_KEY\",\n",
    ")\n",
    "agent = AssistantAgent(\n",
    "    name=\"fantasy_math_expert\",\n",
    "    model_client=model_client,\n",
    "    tools=[generate_random_number, roberts_operator],\n",
    "    system_message=\"Use tools to solve tasks.\",\n",
    ")"
   ]
  },
  {
   "cell_type": "markdown",
   "id": "1d21b083-05c8-440a-ba4f-99455eb1acfa",
   "metadata": {},
   "source": [
    "We can then directly communicate with the agent."
   ]
  },
  {
   "cell_type": "code",
   "execution_count": 4,
   "id": "efa4bd28-2229-4135-9c54-1a3678f97dec",
   "metadata": {},
   "outputs": [
    {
     "data": {
      "text/plain": [
       "'63'"
      ]
     },
     "execution_count": 4,
     "metadata": {},
     "output_type": "execute_result"
    }
   ],
   "source": [
    "result = await agent.on_messages(\n",
    "        [TextMessage(content=\"Give me a random number.\", source=\"user\")],\n",
    "        cancellation_token=CancellationToken(),\n",
    "    )\n",
    "\n",
    "result.chat_message.content"
   ]
  },
  {
   "cell_type": "markdown",
   "id": "4d243648-935c-4ea6-921e-101cc43cdb90",
   "metadata": {},
   "source": [
    "Alternatively, we can define an async function that calls the agent and returns the result."
   ]
  },
  {
   "cell_type": "code",
   "execution_count": 5,
   "id": "74da468c-acb8-49b9-a8dd-66ff881eedc3",
   "metadata": {},
   "outputs": [
    {
     "data": {
      "text/markdown": [
       "## Inner messages"
      ],
      "text/plain": [
       "<IPython.core.display.Markdown object>"
      ]
     },
     "metadata": {},
     "output_type": "display_data"
    },
    {
     "data": {
      "text/markdown": [
       "**fantasy_math_expert:**\n",
       "\n"
      ],
      "text/plain": [
       "<IPython.core.display.Markdown object>"
      ]
     },
     "metadata": {},
     "output_type": "display_data"
    },
    {
     "data": {
      "text/markdown": [
       "generate_random_number()\n",
       "\n"
      ],
      "text/plain": [
       "<IPython.core.display.Markdown object>"
      ]
     },
     "metadata": {},
     "output_type": "display_data"
    },
    {
     "data": {
      "text/markdown": [
       "generate_random_number()\n",
       "\n"
      ],
      "text/plain": [
       "<IPython.core.display.Markdown object>"
      ]
     },
     "metadata": {},
     "output_type": "display_data"
    },
    {
     "data": {
      "text/markdown": [
       "**fantasy_math_expert:**\n",
       "\n"
      ],
      "text/plain": [
       "<IPython.core.display.Markdown object>"
      ]
     },
     "metadata": {},
     "output_type": "display_data"
    },
    {
     "data": {
      "text/markdown": [
       " = 30\n",
       "\n"
      ],
      "text/plain": [
       "<IPython.core.display.Markdown object>"
      ]
     },
     "metadata": {},
     "output_type": "display_data"
    },
    {
     "data": {
      "text/markdown": [
       " = 45\n",
       "\n"
      ],
      "text/plain": [
       "<IPython.core.display.Markdown object>"
      ]
     },
     "metadata": {},
     "output_type": "display_data"
    },
    {
     "data": {
      "text/markdown": [
       "## Chat messages"
      ],
      "text/plain": [
       "<IPython.core.display.Markdown object>"
      ]
     },
     "metadata": {},
     "output_type": "display_data"
    },
    {
     "data": {
      "text/markdown": [
       "**fantasy_math_expert:**\n",
       "\n"
      ],
      "text/plain": [
       "<IPython.core.display.Markdown object>"
      ]
     },
     "metadata": {},
     "output_type": "display_data"
    },
    {
     "data": {
      "text/markdown": [
       "'30\n",
       "45' \n",
       "\n"
      ],
      "text/plain": [
       "<IPython.core.display.Markdown object>"
      ]
     },
     "metadata": {},
     "output_type": "display_data"
    }
   ],
   "source": [
    "async def assistant_run(task_description, verbose=False) -> None:\n",
    "    response = await agent.on_messages(\n",
    "        [TextMessage(content=task_description, source=\"user\")],\n",
    "        cancellation_token=CancellationToken(),\n",
    "    )\n",
    "    if verbose:\n",
    "        display(Markdown(\"## Inner messages\"))\n",
    "        print_messages(response.inner_messages)\n",
    "        display(Markdown(\"## Chat messages\"))\n",
    "        print_messages([response.chat_message])\n",
    "    return response\n",
    "    \n",
    "# Use asyncio.run(assistant_run()) when running in a script.\n",
    "await assistant_run(\"What is Robert's operator result on two random numbers?\", verbose=True);"
   ]
  },
  {
   "cell_type": "code",
   "execution_count": 6,
   "id": "44155ce7-f3f3-445b-8150-3ded8d5881d8",
   "metadata": {},
   "outputs": [
    {
     "data": {
      "text/markdown": [
       "## Inner messages"
      ],
      "text/plain": [
       "<IPython.core.display.Markdown object>"
      ]
     },
     "metadata": {},
     "output_type": "display_data"
    },
    {
     "data": {
      "text/markdown": [
       "**fantasy_math_expert:**\n",
       "\n"
      ],
      "text/plain": [
       "<IPython.core.display.Markdown object>"
      ]
     },
     "metadata": {},
     "output_type": "display_data"
    },
    {
     "data": {
      "text/markdown": [
       "roberts_operator(a=3, b=4)\n",
       "\n"
      ],
      "text/plain": [
       "<IPython.core.display.Markdown object>"
      ]
     },
     "metadata": {},
     "output_type": "display_data"
    },
    {
     "data": {
      "text/markdown": [
       "**fantasy_math_expert:**\n",
       "\n"
      ],
      "text/plain": [
       "<IPython.core.display.Markdown object>"
      ]
     },
     "metadata": {},
     "output_type": "display_data"
    },
    {
     "data": {
      "text/markdown": [
       " = 13\n",
       "\n"
      ],
      "text/plain": [
       "<IPython.core.display.Markdown object>"
      ]
     },
     "metadata": {},
     "output_type": "display_data"
    },
    {
     "data": {
      "text/markdown": [
       "## Chat messages"
      ],
      "text/plain": [
       "<IPython.core.display.Markdown object>"
      ]
     },
     "metadata": {},
     "output_type": "display_data"
    },
    {
     "data": {
      "text/markdown": [
       "**fantasy_math_expert:**\n",
       "\n"
      ],
      "text/plain": [
       "<IPython.core.display.Markdown object>"
      ]
     },
     "metadata": {},
     "output_type": "display_data"
    },
    {
     "data": {
      "text/markdown": [
       "'13' \n",
       "\n"
      ],
      "text/plain": [
       "<IPython.core.display.Markdown object>"
      ]
     },
     "metadata": {},
     "output_type": "display_data"
    }
   ],
   "source": [
    "await assistant_run(\"What is Robert's operator result on 3 and 4?\", verbose=True);"
   ]
  },
  {
   "cell_type": "markdown",
   "id": "02f40b5d-9b1d-479a-ad4b-0f6ec60aaa23",
   "metadata": {},
   "source": [
    "Note that the assistant has memory:"
   ]
  },
  {
   "cell_type": "code",
   "execution_count": 10,
   "id": "53dcf576-d4f9-4141-97ba-69017a3f3e1c",
   "metadata": {},
   "outputs": [
    {
     "data": {
      "text/plain": [
       "[{'content': 'Give me a random number.',\n",
       "  'source': 'user',\n",
       "  'type': 'UserMessage'},\n",
       " {'content': [{'id': 'call_nC19Sx9jHlV9IqY0gGWNj6Me',\n",
       "    'arguments': '{}',\n",
       "    'name': 'generate_random_number'}],\n",
       "  'source': 'fantasy_math_expert',\n",
       "  'type': 'AssistantMessage'},\n",
       " {'content': [{'content': '63', 'call_id': 'call_nC19Sx9jHlV9IqY0gGWNj6Me'}],\n",
       "  'type': 'FunctionExecutionResultMessage'},\n",
       " {'content': \"What is Robert's operator result on two random numbers?\",\n",
       "  'source': 'user',\n",
       "  'type': 'UserMessage'},\n",
       " {'content': [{'id': 'call_KIvs9uK1gXCipoYKPi7eCf8w',\n",
       "    'arguments': '{}',\n",
       "    'name': 'generate_random_number'},\n",
       "   {'id': 'call_NXRo0zwvGGjxEEL546Oa4XjS',\n",
       "    'arguments': '{}',\n",
       "    'name': 'generate_random_number'}],\n",
       "  'source': 'fantasy_math_expert',\n",
       "  'type': 'AssistantMessage'},\n",
       " {'content': [{'content': '30', 'call_id': 'call_KIvs9uK1gXCipoYKPi7eCf8w'},\n",
       "   {'content': '45', 'call_id': 'call_NXRo0zwvGGjxEEL546Oa4XjS'}],\n",
       "  'type': 'FunctionExecutionResultMessage'},\n",
       " {'content': \"What is Robert's operator result on 3 and 4?\",\n",
       "  'source': 'user',\n",
       "  'type': 'UserMessage'},\n",
       " {'content': [{'id': 'call_EdRQ65BV686cEp6VCm8ZdTP3',\n",
       "    'arguments': '{\"a\":3,\"b\":4}',\n",
       "    'name': 'roberts_operator'}],\n",
       "  'source': 'fantasy_math_expert',\n",
       "  'type': 'AssistantMessage'},\n",
       " {'content': [{'content': '13', 'call_id': 'call_EdRQ65BV686cEp6VCm8ZdTP3'}],\n",
       "  'type': 'FunctionExecutionResultMessage'}]"
      ]
     },
     "execution_count": 10,
     "metadata": {},
     "output_type": "execute_result"
    }
   ],
   "source": [
    "memory = await agent.save_state()\n",
    "memory[\"llm_messages\"]"
   ]
  },
  {
   "cell_type": "code",
   "execution_count": null,
   "id": "def47252-3621-4050-9f35-e63f50fbef0d",
   "metadata": {},
   "outputs": [],
   "source": []
  }
 ],
 "metadata": {
  "kernelspec": {
   "display_name": "Python 3 (ipykernel)",
   "language": "python",
   "name": "python3"
  },
  "language_info": {
   "codemirror_mode": {
    "name": "ipython",
    "version": 3
   },
   "file_extension": ".py",
   "mimetype": "text/x-python",
   "name": "python",
   "nbconvert_exporter": "python",
   "pygments_lexer": "ipython3",
   "version": "3.11.11"
  }
 },
 "nbformat": 4,
 "nbformat_minor": 5
}
