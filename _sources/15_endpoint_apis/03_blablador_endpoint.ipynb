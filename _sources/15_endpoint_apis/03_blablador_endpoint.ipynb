{
 "cells": [
  {
   "cell_type": "markdown",
   "id": "87404224-b84b-409f-8683-c4a243d29722",
   "metadata": {},
   "source": [
    "# Blablador endpoint\n",
    "In this notebook we will use the [blablardor](https://helmholtz-blablador.fz-juelich.de/) infrastructure at the Research Center Jülich. Before you can access it, you need to create an API key as explained [on this page](https://sdlaml.pages.jsc.fz-juelich.de/ai/guides/blablador_api_access/). You will see that also this method uses the OpenAI API and we change the `base_url`."
   ]
  },
  {
   "cell_type": "code",
   "execution_count": 1,
   "id": "752e974d-9aaf-44aa-80fb-01a042cf5774",
   "metadata": {
    "tags": []
   },
   "outputs": [
    {
     "data": {
      "text/plain": [
       "'1.35.14'"
      ]
     },
     "execution_count": 1,
     "metadata": {},
     "output_type": "execute_result"
    }
   ],
   "source": [
    "import os\n",
    "import openai\n",
    "openai.__version__"
   ]
  },
  {
   "cell_type": "code",
   "execution_count": 2,
   "id": "ab55e229-93b9-4e9b-974d-037002690bf0",
   "metadata": {
    "tags": []
   },
   "outputs": [],
   "source": [
    "def prompt_blablador(message:str, model=\"gpt-3.5-turbo\"):\n",
    "    \"\"\"A prompt helper function that sends a message to Blablador (FZ Jülich)\n",
    "    and returns only the text response.\n",
    "    \"\"\"\n",
    "    import os\n",
    "    \n",
    "    # convert message in the right format if necessary\n",
    "    if isinstance(message, str):\n",
    "        message = [{\"role\": \"user\", \"content\": message}]\n",
    "    \n",
    "    # setup connection to the LLM\n",
    "    client = openai.OpenAI()\n",
    "    client.base_url = \"https://helmholtz-blablador.fz-juelich.de:8000/v1\"\n",
    "    \n",
    "    # todo: enter your API key here:\n",
    "    # client.api_key = \"\"\n",
    "    client.api_key = os.environ.get('BLABLADOR_API_KEY')\n",
    "    response = client.chat.completions.create(\n",
    "        model=model,\n",
    "        messages=message\n",
    "    )\n",
    "    \n",
    "    # extract answer\n",
    "    return response.choices[0].message.content"
   ]
  },
  {
   "cell_type": "code",
   "execution_count": 3,
   "id": "a7654a20-a307-4b26-8d25-bef20b70224e",
   "metadata": {
    "tags": []
   },
   "outputs": [
    {
     "data": {
      "text/plain": [
       "'\\nHello! How can I assist you today?'"
      ]
     },
     "execution_count": 3,
     "metadata": {},
     "output_type": "execute_result"
    }
   ],
   "source": [
    "prompt_blablador(\"Hi!\")"
   ]
  },
  {
   "cell_type": "markdown",
   "id": "578e9edd-b58f-4fd0-a56d-1966105221dc",
   "metadata": {},
   "source": [
    "## Exercise\n",
    "List the models available in the blablador endpoint and try them out by specifying them when calling `prompt_blablador()`."
   ]
  },
  {
   "cell_type": "code",
   "execution_count": 4,
   "id": "05171ba7-a775-41c5-954d-7d4fc2b5b625",
   "metadata": {},
   "outputs": [
    {
     "name": "stdout",
     "output_type": "stream",
     "text": [
      "1 - Mistral-7B-Instruct-v0.2 - the best option in general - fast and good\n",
      "2 - Mixtral-8x7B-Instruct-v0.1 Slower with higher quality\n",
      "3 - starcoder2-15b - A model for programming\n",
      "4 - Cosmosage V3 - Answers your Cosmology and Astronomy questions (new version June 2024)\n",
      "5 - GritLM-7B - For Chat AND Text Embeddings\n",
      "6 - Llama3-8B-Instruct - A good model from META\n",
      "alias-code\n",
      "alias-embeddings\n",
      "alias-fast\n",
      "alias-large\n",
      "alias-llama3-small\n",
      "gpt-3.5-turbo\n",
      "text-davinci-003\n",
      "text-embedding-ada-002\n"
     ]
    }
   ],
   "source": [
    "client = openai.OpenAI()\n",
    "client.base_url = \"https://helmholtz-blablador.fz-juelich.de:8000/v1\"\n",
    "client.api_key = os.environ.get('BLABLADOR_API_KEY')\n",
    "\n",
    "print(\"\\n\".join([model.id for model in client.models.list().data]))"
   ]
  },
  {
   "cell_type": "code",
   "execution_count": null,
   "id": "7e810ee2-4d22-42f6-add5-532cf95b4b9c",
   "metadata": {},
   "outputs": [],
   "source": []
  }
 ],
 "metadata": {
  "kernelspec": {
   "display_name": "Python 3 (ipykernel)",
   "language": "python",
   "name": "python3"
  },
  "language_info": {
   "codemirror_mode": {
    "name": "ipython",
    "version": 3
   },
   "file_extension": ".py",
   "mimetype": "text/x-python",
   "name": "python",
   "nbconvert_exporter": "python",
   "pygments_lexer": "ipython3",
   "version": "3.11.9"
  }
 },
 "nbformat": 4,
 "nbformat_minor": 5
}
