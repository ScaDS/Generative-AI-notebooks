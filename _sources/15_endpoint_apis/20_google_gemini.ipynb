{
 "cells": [
  {
   "cell_type": "markdown",
   "id": "bc065556-7daa-4471-a816-77980cd1e98b",
   "metadata": {},
   "source": [
    "# Gemini API\n",
    "In this notebook we use the model Gemini 1.5 Flash"
   ]
  },
  {
   "cell_type": "code",
   "execution_count": 1,
   "id": "5b85e2f9-b1a5-49d6-abed-ab4193a10e99",
   "metadata": {},
   "outputs": [],
   "source": [
    "def prompt_gemini(request, model=\"gemini-1.5-flash-001\"):\n",
    "    \"\"\"Send a prompt to Google Gemini and return the response\"\"\"\n",
    "    from google import generativeai as genai\n",
    "    import os\n",
    "    genai.configure(api_key=os.environ['GOOGLE_API_KEY'])\n",
    "    \n",
    "    client = genai.GenerativeModel(model)\n",
    "    result = client.generate_content(request)\n",
    "    return result.text"
   ]
  },
  {
   "cell_type": "code",
   "execution_count": 2,
   "id": "255bd9e4-c447-4dc4-85b4-3119a3e691ed",
   "metadata": {},
   "outputs": [
    {
     "data": {
      "text/plain": [
       "'The capital of France is **Paris**. \\n'"
      ]
     },
     "execution_count": 2,
     "metadata": {},
     "output_type": "execute_result"
    }
   ],
   "source": [
    "prompt_gemini(\"Hello, what is the capital of France?\")"
   ]
  },
  {
   "cell_type": "markdown",
   "id": "9efc8ce4-b99a-4a05-b00f-92b9c8bd8fc5",
   "metadata": {},
   "source": [
    "## Exercise\n",
    "List the models available by google and try them out!"
   ]
  },
  {
   "cell_type": "code",
   "execution_count": 3,
   "id": "7d423d8c-7966-4646-8c6f-dbf6ef999084",
   "metadata": {},
   "outputs": [
    {
     "data": {
      "text/plain": [
       "['models/chat-bison-001',\n",
       " 'models/text-bison-001',\n",
       " 'models/embedding-gecko-001',\n",
       " 'models/gemini-1.0-pro',\n",
       " 'models/gemini-1.0-pro-001',\n",
       " 'models/gemini-1.0-pro-latest',\n",
       " 'models/gemini-1.0-pro-vision-latest',\n",
       " 'models/gemini-1.5-flash',\n",
       " 'models/gemini-1.5-flash-001',\n",
       " 'models/gemini-1.5-flash-latest',\n",
       " 'models/gemini-1.5-pro',\n",
       " 'models/gemini-1.5-pro-001',\n",
       " 'models/gemini-1.5-pro-latest',\n",
       " 'models/gemini-pro',\n",
       " 'models/gemini-pro-vision',\n",
       " 'models/embedding-001',\n",
       " 'models/text-embedding-004',\n",
       " 'models/aqa']"
      ]
     },
     "execution_count": 3,
     "metadata": {},
     "output_type": "execute_result"
    }
   ],
   "source": [
    "from google.generativeai import list_models\n",
    "\n",
    "[m.name for m in list_models()]"
   ]
  },
  {
   "cell_type": "code",
   "execution_count": null,
   "id": "b5dedf08-1d56-427d-9cd5-c203825172d8",
   "metadata": {},
   "outputs": [],
   "source": []
  }
 ],
 "metadata": {
  "kernelspec": {
   "display_name": "Python 3 (ipykernel)",
   "language": "python",
   "name": "python3"
  },
  "language_info": {
   "codemirror_mode": {
    "name": "ipython",
    "version": 3
   },
   "file_extension": ".py",
   "mimetype": "text/x-python",
   "name": "python",
   "nbconvert_exporter": "python",
   "pygments_lexer": "ipython3",
   "version": "3.11.9"
  }
 },
 "nbformat": 4,
 "nbformat_minor": 5
}
