{
 "cells": [
  {
   "cell_type": "markdown",
   "id": "84e92e66-e148-43ed-a0b6-70d5125f5ddb",
   "metadata": {},
   "source": [
    "# LLM-based Retrieval Augmented Generation\n",
    "\n",
    "In case text-embeddings perform poorly for identifying relevant documents, one can also ask LLMs to identify relevant documents. Therefore, we provide a list of files with corresponding summaries of these files and ask the LLM to tell us which documents are relevant. We then take the content of this document selection and assemble it to a long-context prompt."
   ]
  },
  {
   "cell_type": "code",
   "execution_count": 1,
   "id": "78729cc5-635e-40b6-8925-db3bd09aa4cf",
   "metadata": {},
   "outputs": [],
   "source": [
    "from utilities import prompt_scadsai_llm, remove_outer_markdown, text_to_json\n",
    "from IPython.display import display, Markdown"
   ]
  },
  {
   "cell_type": "code",
   "execution_count": 2,
   "id": "0903fa1b-c24b-44fb-9224-214076908972",
   "metadata": {},
   "outputs": [],
   "source": [
    "docs_root_folder = \"hpc-compendium/doc.zih.tu-dresden.de/docs/\""
   ]
  },
  {
   "cell_type": "code",
   "execution_count": 3,
   "id": "b9e7b794-8050-4557-b1c4-d83328b8fcf2",
   "metadata": {},
   "outputs": [],
   "source": [
    "compendium_url = \"https://compendium.hpc.tu-dresden.de/\""
   ]
  },
  {
   "cell_type": "markdown",
   "id": "258fc681-7a70-451c-b99a-493958463e1f",
   "metadata": {},
   "source": [
    "This is again the question we aim to answer:"
   ]
  },
  {
   "cell_type": "code",
   "execution_count": 4,
   "id": "7f3b5605-b443-4e7a-9876-582635ac4320",
   "metadata": {},
   "outputs": [],
   "source": [
    "question = \"How can I access the Jupyter Hub on the HPC system?\""
   ]
  },
  {
   "cell_type": "markdown",
   "id": "74de2584-5439-476d-8420-856200e15014",
   "metadata": {},
   "source": [
    "## Identifying relevant documents\n",
    "To identify relevant documents, we first load the summary list."
   ]
  },
  {
   "cell_type": "code",
   "execution_count": 5,
   "id": "16fd8f95-7f51-43d8-bc4e-79263e0f91a5",
   "metadata": {},
   "outputs": [
    {
     "name": "stdout",
     "output_type": "stream",
     "text": [
      "First part of the content:\n",
      "* accessibility.md:\n",
      "This document is an accessibility statement for the Technische Universität Dresden's websites, outlining the university's efforts to make its online presence barrier-free in accordance with German law, and providing contact information for reporting accessibility issues and seeking redress.\n",
      "\n",
      "* data_protection_declaration.md:\n",
      "This document outlines a data protection policy, stating that only IP addresses are collected for error analysis and not shared with third parties unless required by law, and users have the right to request information about their personal data and contact relevant authorities.\n",
      "\n",
      "* index.md:\n",
      "This documentation provides information on the High-Performan ...\n"
     ]
    }
   ],
   "source": [
    "# Read the content of summaries.md \n",
    "with open('hpc_compendium_summaries.md', 'r', encoding='utf-8') as f:\n",
    "    summaries = f.read()\n",
    "\n",
    "# Print first 300 characters to verify\n",
    "print(\"First part of the content:\")\n",
    "print(summaries[:700], \"...\")"
   ]
  },
  {
   "cell_type": "code",
   "execution_count": 6,
   "id": "ea24cc22-2c2b-4991-9615-2c152d2fcfe3",
   "metadata": {},
   "outputs": [
    {
     "name": "stdout",
     "output_type": "stream",
     "text": [
      "access/jupyterhub.md\n",
      "access/overview.md\n",
      "access/jupyterlab.md\n",
      "quickstart/getting_started.md\n",
      "software/big_data_frameworks.md\n",
      "software/data_analytics_with_python.md\n",
      "software/data_analytics_with_r.md\n",
      "software/data_analytics_with_rstudio.md\n",
      "access/desktop_cloud_visualization.md\n",
      "access/graphical_applications_with_webvnc.md\n"
     ]
    }
   ],
   "source": [
    "response = prompt_scadsai_llm(f\"\"\"\n",
    "Given a question and a list of document summaries, identify documents that might be helpful for answering the question.\n",
    "\n",
    "## Question\n",
    "{question} \n",
    "\n",
    "## Document summaries\n",
    "\n",
    "{summaries}\n",
    "\n",
    "## Your task:\n",
    "Which of the documents above might be relevant for answering this question: {question}\n",
    "\n",
    "Answer with a list of filenames in JSON format\n",
    "\"\"\")\n",
    "\n",
    "# post-processing of the result to get a proper list\n",
    "json = remove_outer_markdown(response)\n",
    "relevant_file_paths = text_to_json(json)\n",
    "[print(f) for f in relevant_file_paths];"
   ]
  },
  {
   "cell_type": "code",
   "execution_count": 7,
   "id": "7a7d6d08-fd7f-41e2-991c-3ff61b69322f",
   "metadata": {},
   "outputs": [
    {
     "data": {
      "text/plain": [
       "'### https://compendium.hpc.tu-dresden.de/access/jupyterhub \\n\\n```\\n# JupyterHub\\n\\nWith our JupyterHub service, we offer you a quick and easy way to work with\\nJupyter notebooks on ZIH systems. This page covers starting and stopping\\nJupyterHub sessions, error handling and customizing the environment.\\n\\nWe also provide a comprehensive documentation on how to use\\n[JupyterHub for Teaching (git-pull feature, quickstart links, direct links to notebook files)](jupyterhub_for_teaching.md).\\n\\n## Disclaimer\\n\\n!!'"
      ]
     },
     "execution_count": 7,
     "metadata": {},
     "output_type": "execute_result"
    }
   ],
   "source": [
    "full_texts = {}\n",
    "for file in relevant_file_paths:\n",
    "    with open(docs_root_folder + file, 'r', encoding='utf-8') as f:\n",
    "        full_texts[compendium_url + file[:-3]] = f.read()\n",
    "\n",
    "\n",
    "documents = \"\\n\".join([f\"### {file} \\n\\n```\\n{content}\\n```\\n\" for file, content in full_texts.items()])\n",
    "\n",
    "documents[:500]"
   ]
  },
  {
   "cell_type": "code",
   "execution_count": 8,
   "id": "4eab789f-aca4-4527-ae74-3ae1a62f9d17",
   "metadata": {},
   "outputs": [
    {
     "data": {
      "text/markdown": [
       "To access the Jupyter Hub on the HPC system, you can visit the [JupyterHub](https://compendium.hpc.tu-dresden.de/access/jupyterhub) page and follow the instructions provided. According to the [https://compendium.hpc.tu-dresden.de/access/jupyterhub](https://compendium.hpc.tu-dresden.de/access/jupyterhub) document, you can access JupyterHub at [https://jupyterhub.hpc.tu-dresden.de](https://jupyterhub.hpc.tu-dresden.de) and log in with your ZIH credentials. \n",
       "\n",
       "Additionally, you can also find more information on how to access JupyterHub in other documents such as [https://compendium.hpc.tu-dresden.de/access/overview](https://compendium.hpc.tu-dresden.de/access/overview) and [https://compendium.hpc.tu-dresden.de/quickstart/getting_started](https://compendium.hpc.tu-dresden.de/quickstart/getting_started). \n",
       "\n",
       "Please note that you need to have a ZIH HPC login to access JupyterHub, and you can apply for it via the [HPC login application form](https://selfservice.zih.tu-dresden.de/index.php/hpclogin/noLogin) as mentioned in the [https://compendium.hpc.tu-dresden.de/quickstart/getting_started](https://compendium.hpc.tu-dresden.de/quickstart/getting_started) document. \n",
       "\n",
       "It is also worth mentioning that JupyterHub is available on other clusters such as `vis` as mentioned in the [https://compendium.hpc.tu-dresden.de/access/desktop_cloud_visualization](https://compendium.hpc.tu-dresden.de/access/desktop_cloud_visualization) document. \n",
       "\n",
       "Please let me know if you need further assistance!"
      ],
      "text/plain": [
       "<IPython.core.display.Markdown object>"
      ]
     },
     "metadata": {},
     "output_type": "display_data"
    }
   ],
   "source": [
    "response = prompt_scadsai_llm(f\"\"\"\n",
    "Given a question and a list of document summaries, identify documents that might be helpful for answering the question.\n",
    "\n",
    "## Question\n",
    "{question} \n",
    "\n",
    "## Documents\n",
    "\n",
    "{documents}\n",
    "\n",
    "## Your task:\n",
    "Answer question: {question}\n",
    "In case you used one of the documents above, cite it using markdown-formatted links to the respective document. Keep the links untouched!\n",
    "\"\"\")\n",
    "\n",
    "display(Markdown(response))"
   ]
  },
  {
   "cell_type": "markdown",
   "id": "3c5924ea-d9fe-4df8-b7cb-cc592b64c99e",
   "metadata": {},
   "source": [
    "## Exercise\n",
    "Measure how long it takes to retrieve an answer using this approach, compared to long-context prompting. \n",
    "\n",
    "Hint: Use the same LLM for both approaches. To do this with a length-limited LLM, you may have to shorten the full text."
   ]
  },
  {
   "cell_type": "code",
   "execution_count": null,
   "id": "bc068194-b484-4a10-a95f-f02cfd38e8f2",
   "metadata": {},
   "outputs": [],
   "source": []
  }
 ],
 "metadata": {
  "kernelspec": {
   "display_name": "Python 3 (ipykernel)",
   "language": "python",
   "name": "python3"
  },
  "language_info": {
   "codemirror_mode": {
    "name": "ipython",
    "version": 3
   },
   "file_extension": ".py",
   "mimetype": "text/x-python",
   "name": "python",
   "nbconvert_exporter": "python",
   "pygments_lexer": "ipython3",
   "version": "3.11.11"
  }
 },
 "nbformat": 4,
 "nbformat_minor": 5
}
