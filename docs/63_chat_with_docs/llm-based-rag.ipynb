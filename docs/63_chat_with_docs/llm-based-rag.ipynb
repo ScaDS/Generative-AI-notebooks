{
 "cells": [
  {
   "cell_type": "markdown",
   "id": "84e92e66-e148-43ed-a0b6-70d5125f5ddb",
   "metadata": {},
   "source": [
    "# LLM-based Retrieval Augmented Generation\n",
    "\n",
    "In case text-embeddings perform poorly for identifying relevant documents, one can also ask LLMs to identify relevant documents. Therefore, we provide a list of files with corresponding summaries of these files and ask the LLM to tell us which documents are relevant. We then take the content of this document selection and assemble it to a long-context prompt."
   ]
  },
  {
   "cell_type": "code",
   "execution_count": 1,
   "id": "78729cc5-635e-40b6-8925-db3bd09aa4cf",
   "metadata": {},
   "outputs": [],
   "source": [
    "from utilities import prompt_scadsai_llm, remove_outer_markdown, text_to_json\n",
    "from IPython.display import display, Markdown"
   ]
  },
  {
   "cell_type": "code",
   "execution_count": 2,
   "id": "0903fa1b-c24b-44fb-9224-214076908972",
   "metadata": {},
   "outputs": [],
   "source": [
    "docs_root_folder = \"hpc-compendium/doc.zih.tu-dresden.de/docs/\""
   ]
  },
  {
   "cell_type": "code",
   "execution_count": 3,
   "id": "b9e7b794-8050-4557-b1c4-d83328b8fcf2",
   "metadata": {},
   "outputs": [],
   "source": [
    "compendium_url = \"https://compendium.hpc.tu-dresden.de/\""
   ]
  },
  {
   "cell_type": "markdown",
   "id": "258fc681-7a70-451c-b99a-493958463e1f",
   "metadata": {},
   "source": [
    "This is again the question we aim to answer:"
   ]
  },
  {
   "cell_type": "code",
   "execution_count": 4,
   "id": "7f3b5605-b443-4e7a-9876-582635ac4320",
   "metadata": {},
   "outputs": [],
   "source": [
    "question = \"How can I access the Jupyter Hub on the HPC system?\""
   ]
  },
  {
   "cell_type": "markdown",
   "id": "74de2584-5439-476d-8420-856200e15014",
   "metadata": {},
   "source": [
    "## Identifying relevant documents\n",
    "To identify relevant documents, we first load the summary list."
   ]
  },
  {
   "cell_type": "code",
   "execution_count": 5,
   "id": "16fd8f95-7f51-43d8-bc4e-79263e0f91a5",
   "metadata": {},
   "outputs": [
    {
     "name": "stdout",
     "output_type": "stream",
     "text": [
      "First part of the content:\n",
      "* accessibility.md:\n",
      "This document is an accessibility statement for the Technische Universität Dresden's websites, outlining the university's efforts to make its online presence barrier-free in accordance with German law, and providing contact information for reporting accessibility issues and seeking redress.\n",
      "\n",
      "* data_protection_declaration.md:\n",
      "This document outlines a data protection policy, stating that only IP addresses are collected for error analysis and not shared with third parties unless required by law, and users have the right to request information about their personal data and contact relevant authorities.\n",
      "\n",
      "* index.md:\n",
      "This documentation provides information on the High-Performan ...\n"
     ]
    }
   ],
   "source": [
    "# Read the content of summaries.md \n",
    "with open('hpc_compendium_summaries.md', 'r', encoding='utf-8') as f:\n",
    "    summaries = f.read()\n",
    "\n",
    "# Print first 300 characters to verify\n",
    "print(\"First part of the content:\")\n",
    "print(summaries[:700], \"...\")"
   ]
  },
  {
   "cell_type": "code",
   "execution_count": 6,
   "id": "ea24cc22-2c2b-4991-9615-2c152d2fcfe3",
   "metadata": {},
   "outputs": [
    {
     "name": "stdout",
     "output_type": "stream",
     "text": [
      "access/jupyterhub.md\n",
      "access/overview.md\n",
      "access/desktop_cloud_visualization.md\n",
      "access/graphical_applications_with_webvnc.md\n",
      "access/jupyterlab.md\n",
      "software/data_analytics_with_python.md\n",
      "software/jupyterhub_for_teaching.md\n",
      "software/jupyterhub_teaching_example.md\n"
     ]
    }
   ],
   "source": [
    "response = prompt_scadsai_llm(f\"\"\"\n",
    "Given a question and a list of document summaries, identify documents that might be helpful for answering the question.\n",
    "\n",
    "## Question\n",
    "{question} \n",
    "\n",
    "## Document summaries\n",
    "\n",
    "{summaries}\n",
    "\n",
    "## Your task:\n",
    "Which of the documents above might be relevant for answering this question: {question}\n",
    "\n",
    "Answer with a list of filenames in JSON format\n",
    "\"\"\")\n",
    "\n",
    "# post-processing of the result to get a proper list\n",
    "json = remove_outer_markdown(response)\n",
    "relevant_file_paths = text_to_json(json)\n",
    "[print(f) for f in relevant_file_paths];"
   ]
  },
  {
   "cell_type": "code",
   "execution_count": 7,
   "id": "7a7d6d08-fd7f-41e2-991c-3ff61b69322f",
   "metadata": {},
   "outputs": [
    {
     "ename": "FileNotFoundError",
     "evalue": "[Errno 2] No such file or directory: 'hpc-compendium/doc.zih.tu-dresden.de/docs/software/jupyterhub_for_teaching.md'",
     "output_type": "error",
     "traceback": [
      "\u001b[1;31m---------------------------------------------------------------------------\u001b[0m",
      "\u001b[1;31mFileNotFoundError\u001b[0m                         Traceback (most recent call last)",
      "Cell \u001b[1;32mIn[7], line 3\u001b[0m\n\u001b[0;32m      1\u001b[0m full_texts \u001b[38;5;241m=\u001b[39m {}\n\u001b[0;32m      2\u001b[0m \u001b[38;5;28;01mfor\u001b[39;00m file \u001b[38;5;129;01min\u001b[39;00m relevant_file_paths:\n\u001b[1;32m----> 3\u001b[0m     \u001b[38;5;28;01mwith\u001b[39;00m \u001b[38;5;28;43mopen\u001b[39;49m\u001b[43m(\u001b[49m\u001b[43mdocs_root_folder\u001b[49m\u001b[43m \u001b[49m\u001b[38;5;241;43m+\u001b[39;49m\u001b[43m \u001b[49m\u001b[43mfile\u001b[49m\u001b[43m,\u001b[49m\u001b[43m \u001b[49m\u001b[38;5;124;43m'\u001b[39;49m\u001b[38;5;124;43mr\u001b[39;49m\u001b[38;5;124;43m'\u001b[39;49m\u001b[43m,\u001b[49m\u001b[43m \u001b[49m\u001b[43mencoding\u001b[49m\u001b[38;5;241;43m=\u001b[39;49m\u001b[38;5;124;43m'\u001b[39;49m\u001b[38;5;124;43mutf-8\u001b[39;49m\u001b[38;5;124;43m'\u001b[39;49m\u001b[43m)\u001b[49m \u001b[38;5;28;01mas\u001b[39;00m f:\n\u001b[0;32m      4\u001b[0m         full_texts[compendium_url \u001b[38;5;241m+\u001b[39m file[:\u001b[38;5;241m-\u001b[39m\u001b[38;5;241m3\u001b[39m]] \u001b[38;5;241m=\u001b[39m f\u001b[38;5;241m.\u001b[39mread()\n\u001b[0;32m      7\u001b[0m documents \u001b[38;5;241m=\u001b[39m \u001b[38;5;124m\"\u001b[39m\u001b[38;5;130;01m\\n\u001b[39;00m\u001b[38;5;124m\"\u001b[39m\u001b[38;5;241m.\u001b[39mjoin([\u001b[38;5;124mf\u001b[39m\u001b[38;5;124m\"\u001b[39m\u001b[38;5;124m### \u001b[39m\u001b[38;5;132;01m{\u001b[39;00mfile\u001b[38;5;132;01m}\u001b[39;00m\u001b[38;5;124m \u001b[39m\u001b[38;5;130;01m\\n\u001b[39;00m\u001b[38;5;130;01m\\n\u001b[39;00m\u001b[38;5;124m```\u001b[39m\u001b[38;5;130;01m\\n\u001b[39;00m\u001b[38;5;132;01m{\u001b[39;00mcontent\u001b[38;5;132;01m}\u001b[39;00m\u001b[38;5;130;01m\\n\u001b[39;00m\u001b[38;5;124m```\u001b[39m\u001b[38;5;130;01m\\n\u001b[39;00m\u001b[38;5;124m\"\u001b[39m \u001b[38;5;28;01mfor\u001b[39;00m file, content \u001b[38;5;129;01min\u001b[39;00m full_texts\u001b[38;5;241m.\u001b[39mitems()])\n",
      "File \u001b[1;32m~\\miniforge3\\envs\\genai-gpu\\Lib\\site-packages\\IPython\\core\\interactiveshell.py:324\u001b[0m, in \u001b[0;36m_modified_open\u001b[1;34m(file, *args, **kwargs)\u001b[0m\n\u001b[0;32m    317\u001b[0m \u001b[38;5;28;01mif\u001b[39;00m file \u001b[38;5;129;01min\u001b[39;00m {\u001b[38;5;241m0\u001b[39m, \u001b[38;5;241m1\u001b[39m, \u001b[38;5;241m2\u001b[39m}:\n\u001b[0;32m    318\u001b[0m     \u001b[38;5;28;01mraise\u001b[39;00m \u001b[38;5;167;01mValueError\u001b[39;00m(\n\u001b[0;32m    319\u001b[0m         \u001b[38;5;124mf\u001b[39m\u001b[38;5;124m\"\u001b[39m\u001b[38;5;124mIPython won\u001b[39m\u001b[38;5;124m'\u001b[39m\u001b[38;5;124mt let you open fd=\u001b[39m\u001b[38;5;132;01m{\u001b[39;00mfile\u001b[38;5;132;01m}\u001b[39;00m\u001b[38;5;124m by default \u001b[39m\u001b[38;5;124m\"\u001b[39m\n\u001b[0;32m    320\u001b[0m         \u001b[38;5;124m\"\u001b[39m\u001b[38;5;124mas it is likely to crash IPython. If you know what you are doing, \u001b[39m\u001b[38;5;124m\"\u001b[39m\n\u001b[0;32m    321\u001b[0m         \u001b[38;5;124m\"\u001b[39m\u001b[38;5;124myou can use builtins\u001b[39m\u001b[38;5;124m'\u001b[39m\u001b[38;5;124m open.\u001b[39m\u001b[38;5;124m\"\u001b[39m\n\u001b[0;32m    322\u001b[0m     )\n\u001b[1;32m--> 324\u001b[0m \u001b[38;5;28;01mreturn\u001b[39;00m \u001b[43mio_open\u001b[49m\u001b[43m(\u001b[49m\u001b[43mfile\u001b[49m\u001b[43m,\u001b[49m\u001b[43m \u001b[49m\u001b[38;5;241;43m*\u001b[39;49m\u001b[43margs\u001b[49m\u001b[43m,\u001b[49m\u001b[43m \u001b[49m\u001b[38;5;241;43m*\u001b[39;49m\u001b[38;5;241;43m*\u001b[39;49m\u001b[43mkwargs\u001b[49m\u001b[43m)\u001b[49m\n",
      "\u001b[1;31mFileNotFoundError\u001b[0m: [Errno 2] No such file or directory: 'hpc-compendium/doc.zih.tu-dresden.de/docs/software/jupyterhub_for_teaching.md'"
     ]
    }
   ],
   "source": [
    "full_texts = {}\n",
    "for file in relevant_file_paths:\n",
    "    with open(docs_root_folder + file, 'r', encoding='utf-8') as f:\n",
    "        full_texts[compendium_url + file[:-3]] = f.read()\n",
    "\n",
    "\n",
    "documents = \"\\n\".join([f\"### {file} \\n\\n```\\n{content}\\n```\\n\" for file, content in full_texts.items()])\n",
    "\n",
    "documents[:500]"
   ]
  },
  {
   "cell_type": "code",
   "execution_count": null,
   "id": "4eab789f-aca4-4527-ae74-3ae1a62f9d17",
   "metadata": {},
   "outputs": [],
   "source": [
    "response = prompt_scadsai_llm(f\"\"\"\n",
    "Given a question and a list of document summaries, identify documents that might be helpful for answering the question.\n",
    "\n",
    "## Question\n",
    "{question} \n",
    "\n",
    "## Documents\n",
    "\n",
    "{documents}\n",
    "\n",
    "## Your task:\n",
    "Answer question: {question}\n",
    "In case you used one of the documents above, cite it using markdown-formatted links to the respective document. Keep the links untouched!\n",
    "\"\"\")\n",
    "\n",
    "display(Markdown(response))"
   ]
  },
  {
   "cell_type": "markdown",
   "id": "3c5924ea-d9fe-4df8-b7cb-cc592b64c99e",
   "metadata": {},
   "source": [
    "## Exercise\n",
    "Measure how long it takes to retrieve an answer using this approach, compared to long-context prompting. \n",
    "\n",
    "Hint: Use the same LLM for both approaches. To do this with a length-limited LLM, you may have to shorten the full text."
   ]
  },
  {
   "cell_type": "code",
   "execution_count": null,
   "id": "bc068194-b484-4a10-a95f-f02cfd38e8f2",
   "metadata": {},
   "outputs": [],
   "source": []
  }
 ],
 "metadata": {
  "kernelspec": {
   "display_name": "Python 3 (ipykernel)",
   "language": "python",
   "name": "python3"
  },
  "language_info": {
   "codemirror_mode": {
    "name": "ipython",
    "version": 3
   },
   "file_extension": ".py",
   "mimetype": "text/x-python",
   "name": "python",
   "nbconvert_exporter": "python",
   "pygments_lexer": "ipython3",
   "version": "3.11.11"
  }
 },
 "nbformat": 4,
 "nbformat_minor": 5
}
