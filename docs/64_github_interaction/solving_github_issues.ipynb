{
 "cells": [
  {
   "cell_type": "markdown",
   "id": "5bebcb61-57ee-469e-8973-e8ad0b6c78fe",
   "metadata": {},
   "source": [
    "# Solving github issues\n",
    "In this notebook we will explore capabilities of LLMs to solve github issues. In order to run this notebook, you need to configure a \"GITHUB_API_KEY\" in your environment variables. You can get such a key [here](https://github.com/settings/tokens), after logging in to github.\n",
    "\n",
    "We will be using these libraries:\n",
    "* [blablado](https://github.com/haesleinhuepf/blablado)\n",
    "* [pygithub](https://github.com/PyGithub/PyGithub)"
   ]
  },
  {
   "cell_type": "code",
   "execution_count": 1,
   "id": "831f87c3-e462-4c1e-8ff6-243791b2116c",
   "metadata": {},
   "outputs": [],
   "source": [
    "import bia_bob\n",
    "from blablado import Assistant"
   ]
  },
  {
   "cell_type": "code",
   "execution_count": 2,
   "id": "a8bfb4eb-73fc-4537-9678-2d8fc9ac8d6d",
   "metadata": {},
   "outputs": [],
   "source": [
    "import os"
   ]
  },
  {
   "cell_type": "markdown",
   "id": "bc12b1b8-d63d-49f0-a3d7-ff0338825609",
   "metadata": {},
   "source": [
    "The actual implementation of the interaction with github can be found in the github_utilities.py file in this folder."
   ]
  },
  {
   "cell_type": "code",
   "execution_count": 3,
   "id": "2a64f71b-1dcd-41cb-9fc1-54d672c8416e",
   "metadata": {},
   "outputs": [],
   "source": [
    "from github_utilities import get_github_issue_details, list_issues, list_repository_files, get_repository_file_contents, update_file_in_new_branch, send_pull_request"
   ]
  },
  {
   "cell_type": "markdown",
   "id": "80a68828-6f86-42f5-9302-17ed48366095",
   "metadata": {},
   "source": [
    "First, we define the repository we want to work on."
   ]
  },
  {
   "cell_type": "code",
   "execution_count": 4,
   "id": "919484d7-afe2-4708-8e55-696a3657e139",
   "metadata": {},
   "outputs": [],
   "source": [
    "repository = \"scads/git-demo-dataweek2024\""
   ]
  },
  {
   "cell_type": "markdown",
   "id": "bd14f53a-826f-4ea8-a684-aa255020422c",
   "metadata": {},
   "source": [
    "Next, we define a blablado assistant, which can call functions using instructions from a human operator in English language.\n",
    "Note: These functions all have a proper docstring, telling the LLM what the functions can be used for."
   ]
  },
  {
   "cell_type": "code",
   "execution_count": 5,
   "id": "06c6e129-9345-4cd1-8210-7aa3573ac9ef",
   "metadata": {},
   "outputs": [],
   "source": [
    "assistant = Assistant()\n",
    "# enabling the assistant to interact with github issues\n",
    "assistant.register_tool(list_issues)\n",
    "assistant.register_tool(get_github_issue_details)\n",
    "# allow it to interact with files in the repository. \n",
    "assistant.register_tool(list_repository_files)\n",
    "assistant.register_tool(get_repository_file_contents)\n",
    "# modifying files\n",
    "assistant.register_tool(update_file_in_new_branch)\n",
    "assistant.register_tool(send_pull_request)"
   ]
  },
  {
   "cell_type": "markdown",
   "id": "af0d02bb-682a-4662-9700-f6528cf672e2",
   "metadata": {},
   "source": [
    "## Listing github issues\n",
    "We start by exploring existing issues on the repository. "
   ]
  },
  {
   "cell_type": "code",
   "execution_count": 6,
   "id": "6a0fe5f3-9c87-4ce5-975f-74dec0bd75bc",
   "metadata": {},
   "outputs": [
    {
     "data": {
      "text/markdown": [
       "Here are the open issues on `scads/git-demo-dataweek2024`:\n",
       "\n",
       "1. Issue #11: Long texts\n",
       "2. Issue #10: Missing content\n",
       "3. Issue #9: Typo\n",
       "4. Issue #8: Update README.md\n",
       "5. Issue #7: sonnige Grüße\n",
       "6. Issue #6: Fix typo\n",
       "7. Issue #3: Update README.md\n",
       "8. Issue #2: Update README.md"
      ],
      "text/plain": [
       "<IPython.core.display.Markdown object>"
      ]
     },
     "metadata": {},
     "output_type": "display_data"
    }
   ],
   "source": [
    "assistant.do(f\"List all open issues on {repository}\")"
   ]
  },
  {
   "cell_type": "markdown",
   "id": "b309375d-9cf9-4447-827c-c6f4a4e9461e",
   "metadata": {},
   "source": [
    "We then pick one issue and ask for details."
   ]
  },
  {
   "cell_type": "code",
   "execution_count": 7,
   "id": "e455338f-1e03-4cfb-b018-3fdba10e8fad",
   "metadata": {},
   "outputs": [
    {
     "data": {
      "text/markdown": [
       "Issue #9: Typo\n",
       "- **State:** Open\n",
       "- **Created at:** 2024-07-23\n",
       "- **Author:** haesleinhuepf\n",
       "- **Description:** There is a typo in the file \"content.md\"."
      ],
      "text/plain": [
       "<IPython.core.display.Markdown object>"
      ]
     },
     "metadata": {},
     "output_type": "display_data"
    }
   ],
   "source": [
    "assistant.do(\"Tell me the most important details of issue #9\")"
   ]
  },
  {
   "cell_type": "markdown",
   "id": "38073302-5d80-4e70-a376-f41ed8102c06",
   "metadata": {},
   "source": [
    "## Accessing files in the repository\n",
    "In order to determine which file might need modifications to solve the issue, we first list all files."
   ]
  },
  {
   "cell_type": "code",
   "execution_count": 8,
   "id": "432d844a-0682-4984-8fca-c35e7d851262",
   "metadata": {},
   "outputs": [
    {
     "data": {
      "text/markdown": [
       "The repository `scads/git-demo-dataweek2024` contains the following files:\n",
       "1. LICENSE\n",
       "2. README.md\n",
       "3. content.md"
      ],
      "text/plain": [
       "<IPython.core.display.Markdown object>"
      ]
     },
     "metadata": {},
     "output_type": "display_data"
    }
   ],
   "source": [
    "assistant.do(f\"List all files in the repository {repository}\")"
   ]
  },
  {
   "cell_type": "markdown",
   "id": "2048ee3c-3537-47f2-ada5-2680e11f3ed0",
   "metadata": {},
   "source": [
    "Then, we ask the LLM which of the files might be related to the issue."
   ]
  },
  {
   "cell_type": "code",
   "execution_count": 9,
   "id": "676e9d43-aae9-4888-b4b8-20169ca02810",
   "metadata": {},
   "outputs": [
    {
     "data": {
      "text/plain": [
       "'content.md'"
      ]
     },
     "execution_count": 9,
     "metadata": {},
     "output_type": "execute_result"
    }
   ],
   "source": [
    "filename = assistant.tell(\"Which of these files might be relevant for issue 9 ? Respond ONLY the filename.\")\n",
    "filename"
   ]
  },
  {
   "cell_type": "code",
   "execution_count": 10,
   "id": "23fe1415-e943-4f82-b4b1-83772ba4e823",
   "metadata": {},
   "outputs": [
    {
     "data": {
      "text/markdown": [
       "The content of `content.md` is:\n",
       "\n",
       "```\n",
       "# History of a sentence\n",
       "\n",
       "This sentence contains a tpyo.\n",
       "Let's see what is going to happen with it.\n",
       "\n",
       "May it stay here forever? Or does an AI find it and fix it?\n",
       "\n",
       "Time will tell.\n",
       "\n",
       "Best,\n",
       "Robert\n",
       "```"
      ],
      "text/plain": [
       "<IPython.core.display.Markdown object>"
      ]
     },
     "metadata": {},
     "output_type": "display_data"
    }
   ],
   "source": [
    "assistant.do(f\"Load the entire content of {filename} from the  in the repository {repository} .\")"
   ]
  },
  {
   "cell_type": "markdown",
   "id": "4774fad0-2b2e-405c-974c-59efcd3ac12d",
   "metadata": {},
   "source": [
    "## Modifying content\n",
    "After identifying the file, we can ask the LLM to fix the issue in the file."
   ]
  },
  {
   "cell_type": "code",
   "execution_count": 11,
   "id": "4f8eba77-fdd4-4512-8c44-d7a3824d50a0",
   "metadata": {},
   "outputs": [
    {
     "data": {
      "text/markdown": [
       "The file `content.md` has been modified and saved in a new branch named `mod-2ISzWMTKyi`."
      ],
      "text/plain": [
       "<IPython.core.display.Markdown object>"
      ]
     },
     "metadata": {},
     "output_type": "display_data"
    }
   ],
   "source": [
    "assistant.do(f\"Modify the file content of {filename} to fix the issue in a new branch.\")"
   ]
  },
  {
   "cell_type": "markdown",
   "id": "c0adfccb-38ef-4455-9d46-61f7aad07878",
   "metadata": {},
   "source": [
    "## Submitting a pull-request\n",
    "In order to let developers of the repository know that we would like to change something, we send a pull-request."
   ]
  },
  {
   "cell_type": "code",
   "execution_count": 12,
   "id": "c5a19e05-42b9-4d2c-bf6a-bb163e2731fa",
   "metadata": {},
   "outputs": [
    {
     "data": {
      "text/markdown": [
       "The pull request has been created: [Fix typo in content.md](https://github.com/ScaDS/git-demo-dataweek2024/pull/13)."
      ],
      "text/plain": [
       "<IPython.core.display.Markdown object>"
      ]
     },
     "metadata": {},
     "output_type": "display_data"
    }
   ],
   "source": [
    "assistant.do(\"Send a pull-request of the new branch explaining what we changed.\")"
   ]
  }
 ],
 "metadata": {
  "kernelspec": {
   "display_name": "Python 3 (ipykernel)",
   "language": "python",
   "name": "python3"
  },
  "language_info": {
   "codemirror_mode": {
    "name": "ipython",
    "version": 3
   },
   "file_extension": ".py",
   "mimetype": "text/x-python",
   "name": "python",
   "nbconvert_exporter": "python",
   "pygments_lexer": "ipython3",
   "version": "3.11.9"
  }
 },
 "nbformat": 4,
 "nbformat_minor": 5
}
