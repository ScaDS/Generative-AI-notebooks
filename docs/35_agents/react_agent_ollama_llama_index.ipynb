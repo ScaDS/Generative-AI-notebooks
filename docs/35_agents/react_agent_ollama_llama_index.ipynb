{
 "cells": [
  {
   "cell_type": "code",
   "execution_count": 1,
   "id": "729e51e6-a8fd-4c5e-8b25-220e5b4b5421",
   "metadata": {},
   "outputs": [],
   "source": [
    "from llama_index.core.agent import ReActAgent\n",
    "from llama_index.llms.ollama import Ollama\n",
    "from llama_index.llms.openai_like import OpenAILike\n",
    "from llama_index.core.tools import FunctionTool\n",
    "import os\n"
   ]
  },
  {
   "cell_type": "code",
   "execution_count": 2,
   "id": "3afefc4d-918a-4367-9e6b-f1ce1c328452",
   "metadata": {},
   "outputs": [],
   "source": [
    "#llm = Ollama(model=\"llama3.2\", request_timeout=120.0)\n",
    "\n",
    "llm = OpenAILike(model=\"meta-llama/Llama-3.3-70B-Instruct\", request_timeout=120.0, api_base=\"https://llm.scads.ai/v1\", api_key=os.environ.get('SCADSAI_API_KEY'))\n"
   ]
  },
  {
   "cell_type": "code",
   "execution_count": 3,
   "id": "93ce6b74-e037-4b37-8af7-5a9e5ce15bce",
   "metadata": {},
   "outputs": [],
   "source": [
    "tools = []\n",
    "\n",
    "@tools.append\n",
    "def estimate_delivery_date_of_order(order_id:str) -> str:\n",
    "    \"\"\"Estimate the delivery date of a package identified by its order id.\"\"\"\n",
    "    if order_id == \"292123\":\n",
    "        return \"Friday\"\n",
    "    if order_id == \"292456\":\n",
    "        return \"Thursday\"\n",
    "    if order_id == \"292789\":\n",
    "        return \"Saturday\"\n",
    "    return \"Unknown\"\n",
    "\n",
    "@tools.append\n",
    "def get_recent_order_id(customer_name:str) -> str:\n",
    "    \"\"\"Get the most recent order id for a given customer\"\"\"\n",
    "    if customer_name.lower() == \"robert\":\n",
    "        return \"292123\"\n",
    "    if customer_name.lower() == \"alice\":\n",
    "        return \"292456\"\n",
    "    if customer_name.lower() == \"ivy\":\n",
    "        return \"292789\"\n",
    "    if customer_name.lower() == \"dennis\":\n",
    "        return \"2921010\"\n",
    "    return \"unknown\"\n",
    "\n",
    "@tools.append\n",
    "def get_weather(city:str)->str:\n",
    "    \"\"\"Returns the current weather in a given city.\"\"\"\n",
    "    return \"sunny\""
   ]
  },
  {
   "cell_type": "code",
   "execution_count": 4,
   "id": "5fe2830a-79ee-4a65-8bc2-453d8f2bcc71",
   "metadata": {},
   "outputs": [
    {
     "name": "stdout",
     "output_type": "stream",
     "text": [
      "> Running step 034c2a59-1d4e-4388-9757-0331f32b0747. Step input: My Name is Robert. I ordered something. And I would like to know when it will arrive.\n",
      "\u001b[1;3;38;5;200mThought: The current language of the user is: English. I need to use a tool to help me answer the question.\n",
      "Action: get_recent_order_id\n",
      "Action Input: {'customer_name': 'Robert'}\n",
      "\u001b[0m\u001b[1;3;34mObservation: 292123\n",
      "\u001b[0m> Running step 2aa00108-c5cb-453d-adf5-2ad4182edfd2. Step input: None\n",
      "\u001b[1;3;38;5;200mThought: I have the order id. Now I can use another tool to estimate the delivery date.\n",
      "Action: estimate_delivery_date_of_order\n",
      "Action Input: {'order_id': '292123'}\n",
      "\u001b[0m\u001b[1;3;34mObservation: Friday\n",
      "\u001b[0m> Running step 2d7fcba3-cf01-4e99-a61e-4316fd62edef. Step input: None\n",
      "\u001b[1;3;38;5;200mThought: I can answer without using any more tools. I'll use the user's language to answer\n",
      "Answer: Your order will arrive on Friday.\n",
      "\u001b[0m"
     ]
    },
    {
     "data": {
      "text/plain": [
       "'Your order will arrive on Friday.'"
      ]
     },
     "execution_count": 4,
     "metadata": {},
     "output_type": "execute_result"
    }
   ],
   "source": [
    "agent = ReActAgent.from_tools([FunctionTool.from_defaults(fn=t) for t in tools], llm=llm, verbose=True)\n",
    "\n",
    "response = agent.chat(\"My Name is Robert. I ordered something. And I would like to know when it will arrive.\")\n",
    "response.response"
   ]
  },
  {
   "cell_type": "code",
   "execution_count": 5,
   "id": "41e0da5d-a362-4042-b61a-9ad47b11fd09",
   "metadata": {},
   "outputs": [
    {
     "data": {
      "text/plain": [
       "'Your order will arrive on Thursday.'"
      ]
     },
     "execution_count": 5,
     "metadata": {},
     "output_type": "execute_result"
    }
   ],
   "source": [
    "agent = ReActAgent.from_tools([FunctionTool.from_defaults(fn=t) for t in tools], llm=llm)\n",
    "\n",
    "response = agent.chat(\"My Name is Alice. I ordered something. And I would like to know when it will arrive.\")\n",
    "response.response"
   ]
  },
  {
   "cell_type": "code",
   "execution_count": null,
   "id": "eaaa7621-27ed-4477-bccf-d7cb6d786fb2",
   "metadata": {},
   "outputs": [],
   "source": []
  }
 ],
 "metadata": {
  "kernelspec": {
   "display_name": "Python 3 (ipykernel)",
   "language": "python",
   "name": "python3"
  },
  "language_info": {
   "codemirror_mode": {
    "name": "ipython",
    "version": 3
   },
   "file_extension": ".py",
   "mimetype": "text/x-python",
   "name": "python",
   "nbconvert_exporter": "python",
   "pygments_lexer": "ipython3",
   "version": "3.11.11"
  }
 },
 "nbformat": 4,
 "nbformat_minor": 5
}
