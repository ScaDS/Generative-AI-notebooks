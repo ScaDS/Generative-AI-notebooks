{
 "cells": [
  {
   "cell_type": "markdown",
   "id": "8e9e7c85-62ea-4d80-9989-1b7517916140",
   "metadata": {},
   "source": [
    "# Prompting tasks using LangGraph\n",
    "In this notebook we demonstrate how to prompt for executing tasks using chatGPT and [LangGraph](https://langchain-ai.github.io/langgraph/how-tos/create-react-agent/#usage). Using English language, we ask for doing something with data, and LangChain will execute the task."
   ]
  },
  {
   "cell_type": "code",
   "execution_count": 1,
   "id": "f4ae3a80-b6ea-4409-95b7-caecd4e4211c",
   "metadata": {},
   "outputs": [],
   "source": [
    "from langchain_core.tools import tool\n",
    "from langgraph.prebuilt import create_react_agent\n",
    "from langchain_openai import ChatOpenAI\n",
    "import os"
   ]
  },
  {
   "cell_type": "markdown",
   "id": "6b78c8e5-58d1-4750-b659-e639a2b99d2f",
   "metadata": {},
   "source": [
    "To demonstrate how this works, we define three functions that modify a string and collect them in a list called `tools`."
   ]
  },
  {
   "cell_type": "code",
   "execution_count": 2,
   "id": "1299e632-1c54-467e-852a-26d497cd1d8d",
   "metadata": {},
   "outputs": [],
   "source": [
    "tools = []"
   ]
  },
  {
   "cell_type": "code",
   "execution_count": 3,
   "id": "c52e83ba-48ce-40ea-85a3-31539c72e8f7",
   "metadata": {},
   "outputs": [],
   "source": [
    "@tools.append\n",
    "@tool\n",
    "def upper_case(text:str):\n",
    "    \"\"\"Useful for making a text uppercase or capital letters.\"\"\"\n",
    "    return text.upper()\n",
    "\n",
    "@tools.append\n",
    "@tool\n",
    "def lower_case(text:str):\n",
    "    \"\"\"Useful for making a text lowercase or small letters.\"\"\"\n",
    "    return text.lower()\n",
    "\n",
    "@tools.append\n",
    "@tool\n",
    "def reverse(text:str):\n",
    "    \"\"\"Useful for making reversing order of a text.\"\"\"\n",
    "    return text[::-1]"
   ]
  },
  {
   "cell_type": "markdown",
   "id": "c0524eb1-7633-45e7-982b-1c2cc5af0b16",
   "metadata": {},
   "source": [
    "We create some memory and a large language model based on OpenAI's chatGPT."
   ]
  },
  {
   "cell_type": "code",
   "execution_count": 4,
   "id": "5d032bf0-49d1-42d4-9654-394a9e660996",
   "metadata": {},
   "outputs": [],
   "source": [
    "llm=ChatOpenAI(\n",
    "    temperature=0,\n",
    "    #model_name=\"Qwen/QwQ-32B-Preview\", #\"meta-llama/Llama-3.3-70B-Instruct\",\n",
    "    #api_key=os.environ.get('SCADSAI_API_KEY'),\n",
    "    #base_url=\"https://llm.scads.ai/v1\"\n",
    ")"
   ]
  },
  {
   "cell_type": "markdown",
   "id": "7bda4152-8cd8-4257-8e7a-e31fca49ffad",
   "metadata": {
    "tags": []
   },
   "source": [
    "Given the list of tools, the large language model and the memory, we can create an agent."
   ]
  },
  {
   "cell_type": "code",
   "execution_count": 5,
   "id": "86a7cc90-7d0c-4a59-9bf6-04f4538faece",
   "metadata": {},
   "outputs": [],
   "source": [
    "# Define the graph\n",
    "graph = create_react_agent(llm, tools=tools)"
   ]
  },
  {
   "cell_type": "code",
   "execution_count": 6,
   "id": "392095e6-4713-4f94-b178-e0f7aaedd09a",
   "metadata": {},
   "outputs": [],
   "source": [
    "def print_stream(stream):\n",
    "    for s in stream:\n",
    "        message = s[\"messages\"][-1]\n",
    "        if isinstance(message, tuple):\n",
    "            print(message)\n",
    "        else:\n",
    "            message.pretty_print()"
   ]
  },
  {
   "cell_type": "code",
   "execution_count": 7,
   "id": "c30d41d5-abab-414a-878f-c3bbe292b302",
   "metadata": {},
   "outputs": [
    {
     "data": {
      "image/png": "[encoded data removed]",
      "text/plain": [
       "<IPython.core.display.Image object>"
      ]
     },
     "metadata": {},
     "output_type": "display_data"
    }
   ],
   "source": [
    "from IPython.display import Image, display\n",
    "\n",
    "display(Image(graph.get_graph().draw_mermaid_png()))"
   ]
  },
  {
   "cell_type": "code",
   "execution_count": 8,
   "id": "27b7444a-2cf6-4423-b57f-1e8720077024",
   "metadata": {},
   "outputs": [],
   "source": [
    "memory = []\n",
    "def ask(prompt):\n",
    "    inputs = {\"messages\": memory + [(\"user\", prompt)]}\n",
    "    result = list(graph.stream(inputs, stream_mode=\"values\"))\n",
    "    #for r in result:\n",
    "    #    print(len(r[\"messages\"]))\n",
    "    #memory.extend([r[\"messages\"][-1] for r in result])\n",
    "    memory.clear()\n",
    "    memory.extend(result[-1][\"messages\"])\n",
    "    print_stream(result)"
   ]
  },
  {
   "cell_type": "markdown",
   "id": "23e3065d-8d55-46dc-b160-ff4349ee3beb",
   "metadata": {
    "tags": []
   },
   "source": [
    "This agent can then respond to prompts."
   ]
  },
  {
   "cell_type": "code",
   "execution_count": 9,
   "id": "5bf8d165-de48-4052-8121-d0bedac8a3e2",
   "metadata": {},
   "outputs": [
    {
     "name": "stdout",
     "output_type": "stream",
     "text": [
      "================================\u001b[1m Human Message \u001b[0m=================================\n",
      "\n",
      "Hi, I am Robert\n",
      "==================================\u001b[1m Ai Message \u001b[0m==================================\n",
      "\n",
      "Hello Robert! How can I assist you today?\n"
     ]
    }
   ],
   "source": [
    "ask(\"Hi, I am Robert\")"
   ]
  },
  {
   "cell_type": "markdown",
   "id": "d8afb239-93e9-4773-bcc2-37b2fda2a81b",
   "metadata": {},
   "source": [
    "As it has memory, it can remind information we gave it earlier."
   ]
  },
  {
   "cell_type": "code",
   "execution_count": 10,
   "id": "1989ffdb-afe9-4d65-bdad-3ef25aadddd3",
   "metadata": {},
   "outputs": [
    {
     "name": "stdout",
     "output_type": "stream",
     "text": [
      "================================\u001b[1m Human Message \u001b[0m=================================\n",
      "\n",
      "What's my name?\n",
      "==================================\u001b[1m Ai Message \u001b[0m==================================\n",
      "Tool Calls:\n",
      "  upper_case (call_GmiYGbwDpR2Fvo5A3ukWS6of)\n",
      " Call ID: call_GmiYGbwDpR2Fvo5A3ukWS6of\n",
      "  Args:\n",
      "    text: Robert\n",
      "=================================\u001b[1m Tool Message \u001b[0m=================================\n",
      "Name: upper_case\n",
      "\n",
      "ROBERT\n",
      "==================================\u001b[1m Ai Message \u001b[0m==================================\n",
      "\n",
      "Your name is ROBERT. How can I assist you further, Robert?\n"
     ]
    }
   ],
   "source": [
    "ask(\"What's my name?\")"
   ]
  },
  {
   "cell_type": "markdown",
   "id": "752ff4fc-fc27-4360-b46f-e6aa89b376b6",
   "metadata": {
    "tags": []
   },
   "source": [
    "And we can use English language to apply one of the functions above."
   ]
  },
  {
   "cell_type": "code",
   "execution_count": 11,
   "id": "009a4a17-578a-47ff-8ddd-999cfe49c3a3",
   "metadata": {
    "tags": []
   },
   "outputs": [
    {
     "name": "stdout",
     "output_type": "stream",
     "text": [
      "================================\u001b[1m Human Message \u001b[0m=================================\n",
      "\n",
      "Can you reverse my name?\n",
      "==================================\u001b[1m Ai Message \u001b[0m==================================\n",
      "Tool Calls:\n",
      "  reverse (call_Dl74CugeiNHz7ZKV9dIVJhqe)\n",
      " Call ID: call_Dl74CugeiNHz7ZKV9dIVJhqe\n",
      "  Args:\n",
      "    text: ROBERT\n",
      "=================================\u001b[1m Tool Message \u001b[0m=================================\n",
      "Name: reverse\n",
      "\n",
      "TREBOR\n",
      "==================================\u001b[1m Ai Message \u001b[0m==================================\n",
      "\n",
      "Your name reversed is TREBOR. Is there anything else you would like to know or do, Robert?\n"
     ]
    }
   ],
   "source": [
    "ask(\"Can you reverse my name?\")"
   ]
  },
  {
   "cell_type": "markdown",
   "id": "1c5f825b-515a-435e-a7bb-ea22cba53afd",
   "metadata": {},
   "source": [
    "Multiple tasks can also be chained."
   ]
  },
  {
   "cell_type": "code",
   "execution_count": 12,
   "id": "58833309-6ea3-4d83-9471-87f83d945f2a",
   "metadata": {},
   "outputs": [
    {
     "name": "stdout",
     "output_type": "stream",
     "text": [
      "================================\u001b[1m Human Message \u001b[0m=================================\n",
      "\n",
      "Do you know my name reversed and upper case?\n",
      "==================================\u001b[1m Ai Message \u001b[0m==================================\n",
      "Tool Calls:\n",
      "  reverse (call_YOotDzvHOpLnqi5IDQH97IyV)\n",
      " Call ID: call_YOotDzvHOpLnqi5IDQH97IyV\n",
      "  Args:\n",
      "    text: ROBERT\n",
      "  upper_case (call_oajv3uAydFuJtFDeIhq8EIT7)\n",
      " Call ID: call_oajv3uAydFuJtFDeIhq8EIT7\n",
      "  Args:\n",
      "    text: TREBOR\n",
      "=================================\u001b[1m Tool Message \u001b[0m=================================\n",
      "Name: upper_case\n",
      "\n",
      "TREBOR\n",
      "==================================\u001b[1m Ai Message \u001b[0m==================================\n",
      "\n",
      "Your name reversed and in uppercase is TREBOR. If you have any other requests or questions, feel free to let me know!\n"
     ]
    }
   ],
   "source": [
    "ask(\"Do you know my name reversed and upper case?\")"
   ]
  },
  {
   "cell_type": "markdown",
   "id": "1259eee2-b5f7-487c-b200-cf5c472838d7",
   "metadata": {},
   "source": [
    "## Exercise\n",
    "Add a `print('Hello world')` to the function `reverse`, rerun the entire notebook and execue the last cell above multiple times. Is the `Hello world` printed every time? If not, why?"
   ]
  },
  {
   "cell_type": "code",
   "execution_count": null,
   "id": "11b4b4ec-6fef-449d-930a-4588d0d8a474",
   "metadata": {},
   "outputs": [],
   "source": []
  }
 ],
 "metadata": {
  "kernelspec": {
   "display_name": "Python 3 (ipykernel)",
   "language": "python",
   "name": "python3"
  },
  "language_info": {
   "codemirror_mode": {
    "name": "ipython",
    "version": 3
   },
   "file_extension": ".py",
   "mimetype": "text/x-python",
   "name": "python",
   "nbconvert_exporter": "python",
   "pygments_lexer": "ipython3",
   "version": "3.11.11"
  }
 },
 "nbformat": 4,
 "nbformat_minor": 5
}
