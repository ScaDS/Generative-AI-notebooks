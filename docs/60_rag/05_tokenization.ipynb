{
 "cells": [
  {
   "cell_type": "markdown",
   "id": "9d038380-0f2e-4768-9b79-90e63fb10d7c",
   "metadata": {},
   "source": [
    "# Tokenization\n",
    "In this notebook we will learn how to turn sentences into tokens. Tokenization serves cutting texts into digestable snippets before serving them as input to a language model."
   ]
  },
  {
   "cell_type": "markdown",
   "id": "explanation-import",
   "metadata": {},
   "source": [
    "## Importing the Tokenizer\n",
    "\n",
    "We start by importing the `AutoTokenizer` from the `transformers` library. This is a powerful tool that automatically selects the appropriate tokenizer based on the model we specify later."
   ]
  },
  {
   "cell_type": "code",
   "execution_count": 1,
   "id": "858e004e-7e27-4a0c-9332-0da9e319d5e6",
   "metadata": {},
   "outputs": [],
   "source": [
    "from transformers import AutoTokenizer"
   ]
  },
  {
   "cell_type": "markdown",
   "id": "explanation-load-tokenizer",
   "metadata": {},
   "source": [
    "## Loading the Tokenizer\n",
    "\n",
    "Next, we load a specific tokenizer. Here, we're using the tokenizer associated with the 'google/gemma-2b' model. This tokenizer is designed to work with the Gemma 2B model, which is a smaller version of Google's language models.\n",
    "\n",
    "The `from_pretrained()` method downloads and caches the tokenizer, making it ready for use."
   ]
  },
  {
   "cell_type": "code",
   "execution_count": 2,
   "id": "1bc9b29e-a92c-4549-a24b-b8036ebbc1dd",
   "metadata": {},
   "outputs": [],
   "source": [
    "tokenizer = AutoTokenizer.from_pretrained(\"google/gemma-2b\")"
   ]
  },
  {
   "cell_type": "markdown",
   "id": "explanation-tokenize",
   "metadata": {},
   "source": [
    "## Tokenizing a Sentence\n",
    "\n",
    "Now that we have our tokenizer loaded, let's use it to tokenize a simple sentence. The `tokenize()` method breaks down the input text into individual tokens.\n",
    "\n",
    "Tokens can be words, parts of words, or even punctuation. The exact tokenization depends on the specific tokenizer and the language model it's designed for."
   ]
  },
  {
   "cell_type": "code",
   "execution_count": 3,
   "id": "8ed3f615-ae46-4b50-ad19-104d757cea37",
   "metadata": {},
   "outputs": [
    {
     "data": {
      "text/plain": [
       "['A', '▁cat', '▁sitting', '▁next', '▁to', '▁a', '▁microscope', '.']"
      ]
     },
     "execution_count": 3,
     "metadata": {},
     "output_type": "execute_result"
    }
   ],
   "source": [
    "tokenizer.tokenize(\"A cat sitting next to a microscope.\")"
   ]
  },
  {
   "cell_type": "markdown",
   "id": "explanation-tokenize-repeat",
   "metadata": {},
   "source": [
    "## Tokenization Consistency\n",
    "\n",
    "To demonstrate that tokenization is consistent, we'll tokenize the same sentence again. You should expect to see the exact same output as before.\n",
    "\n",
    "This consistency is crucial for language models, as it ensures that the same input will always be processed in the same way, leading to predictable and reliable results."
   ]
  },
  {
   "cell_type": "code",
   "execution_count": 4,
   "id": "b259799c-e74c-430b-a111-b015b6158dbb",
   "metadata": {},
   "outputs": [
    {
     "data": {
      "text/plain": [
       "['A', '▁cat', '▁sitting', '▁next', '▁to', '▁a', '▁microscope', '.']"
      ]
     },
     "execution_count": 4,
     "metadata": {},
     "output_type": "execute_result"
    }
   ],
   "source": [
    "tokenizer.tokenize(\"A cat sitting next to a microscope.\")"
   ]
  },
  {
   "cell_type": "markdown",
   "id": "b35bef74-7f27-4ae5-b642-1bd2aa060304",
   "metadata": {},
   "source": [
    "## Exercise\n",
    "Tokenize a piece of python code."
   ]
  },
  {
   "cell_type": "code",
   "execution_count": null,
   "id": "8d9852c7-f560-4b78-8d7f-9a603a09f03b",
   "metadata": {},
   "outputs": [],
   "source": []
  }
 ],
 "metadata": {
  "kernelspec": {
   "display_name": "Python 3 (ipykernel)",
   "language": "python",
   "name": "python3"
  },
  "language_info": {
   "codemirror_mode": {
    "name": "ipython",
    "version": 3
   },
   "file_extension": ".py",
   "mimetype": "text/x-python",
   "name": "python",
   "nbconvert_exporter": "python",
   "pygments_lexer": "ipython3",
   "version": "3.11.9"
  }
 },
 "nbformat": 4,
 "nbformat_minor": 5
}
