{
 "cells": [
  {
   "cell_type": "markdown",
   "id": "9ee67a8d-c234-4427-91c9-a0dc7033657e",
   "metadata": {},
   "source": [
    "# Prompting basics\n",
    "In this notebook we will send basic prompts to large language model (LLM) and receive answers. To skip technical implementation details for this first step, we just import a `prompt_...` function for now that allows us to access an LLM."
   ]
  },
  {
   "cell_type": "code",
   "execution_count": 1,
   "id": "3b7ff58a-4c07-431b-b123-543023f75b75",
   "metadata": {},
   "outputs": [],
   "source": [
    "from prompting_utilities import prompt_chatgpt"
   ]
  },
  {
   "cell_type": "markdown",
   "id": "2ec5dae8-adb0-449e-a370-a216d10f4690",
   "metadata": {},
   "source": [
    "We can then send English prompts to the LLM by writing `%%prompt_chatgpt` at the beginning of each cell."
   ]
  },
  {
   "cell_type": "code",
   "execution_count": 2,
   "id": "43c6f1dc-fb3c-463f-a144-90b017031600",
   "metadata": {},
   "outputs": [
    {
     "data": {
      "text/markdown": [
       "Central Europe is often considered to include the following countries:\n",
       "\n",
       "1. Germany\n",
       "2. Austria\n",
       "3. Czech Republic\n",
       "4. Slovakia\n",
       "5. Poland\n",
       "6. Hungary\n",
       "7. Slovenia\n",
       "8. Switzerland (sometimes included)"
      ],
      "text/plain": [
       "<IPython.core.display.Markdown object>"
      ]
     },
     "metadata": {},
     "output_type": "display_data"
    }
   ],
   "source": [
    "%%prompt_chatgpt\n",
    "Which countries are in central Europe?"
   ]
  },
  {
   "cell_type": "code",
   "execution_count": 3,
   "id": "ed9c0e13-2f2b-421b-8230-425507372969",
   "metadata": {},
   "outputs": [
    {
     "data": {
      "text/markdown": [
       "Switzerland is located in central Europe, so it does not have any parts that are not considered part of central Europe."
      ],
      "text/plain": [
       "<IPython.core.display.Markdown object>"
      ]
     },
     "metadata": {},
     "output_type": "display_data"
    }
   ],
   "source": [
    "%%prompt_chatgpt\n",
    "Which parts of Switzerland are not central Europe?"
   ]
  },
  {
   "cell_type": "markdown",
   "id": "a256a055-c5ef-4846-a370-006c8a80a119",
   "metadata": {},
   "source": [
    "## A comment on reproducibility\n",
    "Note that prompt responses may not be very reproducible. You can execute the same prompt twice and receive different responses."
   ]
  },
  {
   "cell_type": "code",
   "execution_count": 4,
   "id": "8269c2a0-0a68-452d-9c20-1cabdaf66e1d",
   "metadata": {},
   "outputs": [
    {
     "data": {
      "text/markdown": [
       "The parts of Switzerland that are not considered part of central Europe are: \n",
       "- The Jura region in the western part of Switzerland is considered part of western Europe \n",
       "- The Ticino region in the southern part of Switzerland is considered part of southern Europe."
      ],
      "text/plain": [
       "<IPython.core.display.Markdown object>"
      ]
     },
     "metadata": {},
     "output_type": "display_data"
    }
   ],
   "source": [
    "%%prompt_chatgpt\n",
    "Which parts of Switzerland are not central Europe?"
   ]
  },
  {
   "cell_type": "code",
   "execution_count": null,
   "id": "47f85f74-7742-4660-a60e-83e7c310b8f9",
   "metadata": {},
   "outputs": [],
   "source": []
  }
 ],
 "metadata": {
  "kernelspec": {
   "display_name": "Python 3 (ipykernel)",
   "language": "python",
   "name": "python3"
  },
  "language_info": {
   "codemirror_mode": {
    "name": "ipython",
    "version": 3
   },
   "file_extension": ".py",
   "mimetype": "text/x-python",
   "name": "python",
   "nbconvert_exporter": "python",
   "pygments_lexer": "ipython3",
   "version": "3.11.9"
  }
 },
 "nbformat": 4,
 "nbformat_minor": 5
}
