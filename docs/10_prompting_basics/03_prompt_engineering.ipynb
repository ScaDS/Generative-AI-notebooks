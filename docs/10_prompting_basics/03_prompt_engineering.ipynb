{
 "cells": [
  {
   "cell_type": "markdown",
   "id": "5fb1cd17-f320-4f59-a0e7-28fd1acd59c8",
   "metadata": {},
   "source": [
    "# Basic prompt Engineering\n",
    "\n",
    "In this notebook we learn how prompts can be designed to carefully modify the output format. \n",
    "The more precisely we formulate the desired output, the closer this output will be to our expectation.\n",
    "The act of making the prompt more precise can be coined \"prompt engineering\"."
   ]
  },
  {
   "cell_type": "code",
   "execution_count": 1,
   "id": "bab41321-7139-480d-884d-79eeb8362f08",
   "metadata": {},
   "outputs": [],
   "source": [
    "from prompting_utilities import prompt_chatgpt"
   ]
  },
  {
   "cell_type": "markdown",
   "id": "cf47989d-d12f-4530-8e88-38c06113cbef",
   "metadata": {},
   "source": [
    "First let's ask for a simple task."
   ]
  },
  {
   "cell_type": "code",
   "execution_count": 2,
   "id": "7691d5af-803e-4b35-b76f-d54542674a72",
   "metadata": {},
   "outputs": [
    {
     "data": {
      "text/markdown": [
       "Additional hints for writing your thesis:\n",
       "\n",
       "* Break down your research question into smaller, manageable components to guide your writing process.\n",
       "* Create a realistic timeline with specific deadlines for each chapter or section.\n",
       "* Utilize any writing resources offered by your academic institution, such as writing workshops or tutoring services.\n",
       "* Seek feedback from peers, professors, or academic advisors throughout the writing process to improve the quality of your thesis.\n",
       "* Remember to cite your sources accurately and consistently throughout your thesis to avoid plagiarism.\n",
       "* Revise and edit your thesis multiple times to ensure clarity, coherence, and accuracy in your arguments.\n",
       "* Prioritize self-care and time management to avoid burnout during the thesis writing process."
      ],
      "text/plain": [
       "<IPython.core.display.Markdown object>"
      ]
     },
     "metadata": {},
     "output_type": "display_data"
    }
   ],
   "source": [
    "%%prompt_chatgpt\n",
    "You are a professional academic consultant who gives advice to students for writing their thesis.\n",
    "\n",
    "\n",
    "\n",
    "Give these hints:\n",
    "* Submit the thesis registration form only if you're sure you can finish writing in 5 months.\n",
    "* Start writing your thesis early, e.g. the fundamentals chapter can be written from day one.\n",
    "* Plan to finish writing a month before the deadline to give time to read it and provide feedback."
   ]
  },
  {
   "cell_type": "markdown",
   "id": "9c3f6835-6730-4c31-938f-6665f8b7b0ed",
   "metadata": {},
   "source": [
    "The output is very long and thus, an obvious modification of the output could be to \"keep it short\"."
   ]
  },
  {
   "cell_type": "code",
   "execution_count": 3,
   "id": "a4a5ff4c-4392-4b20-904d-f54b36550e8e",
   "metadata": {},
   "outputs": [
    {
     "data": {
      "text/markdown": [
       "Submit the thesis registration form only if you can finish in 5 months. Start early - write the fundamentals chapter from day one. Plan to finish writing a month before the deadline for feedback."
      ],
      "text/plain": [
       "<IPython.core.display.Markdown object>"
      ]
     },
     "metadata": {},
     "output_type": "display_data"
    }
   ],
   "source": [
    "%%prompt_chatgpt\n",
    "You are a professional academic consultant who gives advice to students for writing their thesis.\n",
    "Keep it short.\n",
    "\n",
    "\n",
    "Give these hints:\n",
    "* Submit the thesis registration form only if you're sure you can finish writing in 5 months.\n",
    "* Start writing your thesis early, e.g. the fundamentals chapter can be written from day one.\n",
    "* Plan to finish writing a month before the deadline to give time to read it and provide feedback."
   ]
  },
  {
   "cell_type": "markdown",
   "id": "5eb1ffcd-7401-4711-ac64-6ccf60994a37",
   "metadata": {},
   "source": [
    "It is also straightforward to ask for output in different languages."
   ]
  },
  {
   "cell_type": "code",
   "execution_count": 4,
   "id": "c6dc6451-29a6-4bb3-bdd5-7bc957ae0b4c",
   "metadata": {},
   "outputs": [
    {
     "data": {
      "text/markdown": [
       "Als akademischer Berater empfehle ich Ihnen, das Registrierungsformular für Ihre Abschlussarbeit nur einzureichen, wenn Sie sicher sind, dass Sie sie in 5 Monaten abschließen können. Beginnen Sie früh mit dem Schreiben, z.B. das Kapitel zur Grundlagenforschung kann ab dem ersten Tag verfasst werden. Planen Sie, den Schreibprozess einen Monat vor dem Abgabetermin abzuschließen, um genügend Zeit zum Lesen und für Feedback zu haben."
      ],
      "text/plain": [
       "<IPython.core.display.Markdown object>"
      ]
     },
     "metadata": {},
     "output_type": "display_data"
    }
   ],
   "source": [
    "%%prompt_chatgpt\n",
    "You are a professional academic consultant who gives advice to students for writing their thesis.\n",
    "Keep it short.\n",
    "Povide advice in German.\n",
    "\n",
    "Give these hints:\n",
    "* Submit the thesis registration form only if you're sure you can finish writing in 5 months.\n",
    "* Start writing your thesis early, e.g. the fundamentals chapter can be written from day one.\n",
    "* Plan to finish writing a month before the deadline to give time to read it and provide feedback."
   ]
  },
  {
   "cell_type": "markdown",
   "id": "a708b72d-7a73-4055-aabf-44ca8a95442f",
   "metadata": {},
   "source": [
    "\"Also output style specification possible is.\", Yoda said."
   ]
  },
  {
   "cell_type": "code",
   "execution_count": 5,
   "id": "b4a523df-7711-4a34-b55e-dfcb9c3590a7",
   "metadata": {},
   "outputs": [
    {
     "data": {
      "text/markdown": [
       "Hints for your thesis, I have. \n",
       "Submit the form, only if sure you can finish in 5 months.\n",
       "Start early, you must. \n",
       "Fundamentals chapter, write from day one, you can.\n",
       "Plan to finish a month before, give time for feedback and reading, you should. \n",
       "Good luck, you will have."
      ],
      "text/plain": [
       "<IPython.core.display.Markdown object>"
      ]
     },
     "metadata": {},
     "output_type": "display_data"
    }
   ],
   "source": [
    "%%prompt_chatgpt\n",
    "You are a professional academic consultant who gives advice to students for writing their thesis.\n",
    "Keep it short.\n",
    "Write like Yoda would.\n",
    "\n",
    "Give these hints:\n",
    "* Submit the thesis registration form only if you're sure you can finish writing in 5 months.\n",
    "* Start writing your thesis early, e.g. the fundamentals chapter can be written from day one.\n",
    "* Plan to finish writing a month before the deadline to give time to read it and provide feedback."
   ]
  },
  {
   "cell_type": "markdown",
   "id": "89b983bd-ba9c-4d12-95e0-9cc7e3e75f78",
   "metadata": {},
   "source": [
    "If technialities are explained by chatGPT, a common prompt is to explain the context as \"I'm a 5 year old.\""
   ]
  },
  {
   "cell_type": "code",
   "execution_count": 6,
   "id": "fc15487c-431c-4339-8fd7-8cffebbeb81a",
   "metadata": {},
   "outputs": [
    {
     "data": {
      "text/markdown": [
       "Wenn du deine Thesis schreiben willst, musst du sicher sein, dass du in 5 Monaten fertig wirst. Fang früh an zu schreiben, z.B. das Grundlagenkapitel kannst du von Anfang an schreiben. Plane, einen Monat vor der Abgabefrist fertig zu sein, um genug Zeit zum Lesen und Feedback geben zu haben."
      ],
      "text/plain": [
       "<IPython.core.display.Markdown object>"
      ]
     },
     "metadata": {},
     "output_type": "display_data"
    }
   ],
   "source": [
    "%%prompt_chatgpt\n",
    "You are a professional academic consultant who gives advice to students for writing their thesis.\n",
    "Keep it short.\n",
    "Povide advice in German.\n",
    "Explain it like I'm 5 year old.\n",
    "Give these hints:\n",
    "* Submit the thesis registration form only if you're sure you can finish writing in 5 months.\n",
    "* Start writing your thesis early, e.g. the fundamentals chapter can be written from day one.\n",
    "* Plan to finish writing a month before the deadline to give time to read it and provide feedback."
   ]
  },
  {
   "cell_type": "markdown",
   "id": "79cc2c19-536a-43a3-9233-23b02d77c0aa",
   "metadata": {},
   "source": [
    "## Exercise\n",
    "Receive the advice in different languages. Also consider languages such as Klingon."
   ]
  },
  {
   "cell_type": "code",
   "execution_count": null,
   "id": "d79a98bf-56e0-43de-b3e8-d5ab1ca4b883",
   "metadata": {},
   "outputs": [],
   "source": []
  }
 ],
 "metadata": {
  "kernelspec": {
   "display_name": "Python 3 (ipykernel)",
   "language": "python",
   "name": "python3"
  },
  "language_info": {
   "codemirror_mode": {
    "name": "ipython",
    "version": 3
   },
   "file_extension": ".py",
   "mimetype": "text/x-python",
   "name": "python",
   "nbconvert_exporter": "python",
   "pygments_lexer": "ipython3",
   "version": "3.11.9"
  }
 },
 "nbformat": 4,
 "nbformat_minor": 5
}
