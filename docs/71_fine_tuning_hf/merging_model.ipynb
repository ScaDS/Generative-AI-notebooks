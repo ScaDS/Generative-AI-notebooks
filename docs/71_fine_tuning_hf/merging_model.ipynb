{
 "cells": [
  {
   "cell_type": "markdown",
   "id": "afb6c4d3-37df-4f03-91ae-e2963d5940a3",
   "metadata": {},
   "source": [
    "# Mergine fine-tuned models\n",
    "After fine-tuning a model, it must be merged with the base model to make a new model others can simply download and try."
   ]
  },
  {
   "cell_type": "code",
   "execution_count": 1,
   "id": "1272ef91-05ea-47f9-8276-c85caea3ac9a",
   "metadata": {},
   "outputs": [],
   "source": [
    "base_model = \"google/gemma-2b-it\"\n",
    "new_model = \"haesleinhuepf/gemma-2b-it-bia-proof-of-concept\""
   ]
  },
  {
   "cell_type": "markdown",
   "id": "3d1bf38f-9fc6-45d1-ba8e-13ecf592a84c",
   "metadata": {},
   "source": [
    "For the merging step, we reload the model and the base model."
   ]
  },
  {
   "cell_type": "code",
   "execution_count": 2,
   "id": "01808fae-f1ed-4637-b14e-79541fee09bd",
   "metadata": {},
   "outputs": [
    {
     "name": "stderr",
     "output_type": "stream",
     "text": [
      "`config.hidden_act` is ignored, you should use `config.hidden_activation` instead.\n",
      "Gemma's activation function will be set to `gelu_pytorch_tanh`. Please, use\n",
      "`config.hidden_activation` if you want to override this behaviour.\n",
      "See https://github.com/huggingface/transformers/pull/29402 for more details.\n"
     ]
    },
    {
     "data": {
      "application/vnd.jupyter.widget-view+json": {
       "model_id": "bb1d871c5e03453cb6d99de0811e0790",
       "version_major": 2,
       "version_minor": 0
      },
      "text/plain": [
       "Loading checkpoint shards:   0%|          | 0/2 [00:00<?, ?it/s]"
      ]
     },
     "metadata": {},
     "output_type": "display_data"
    }
   ],
   "source": [
    "from transformers import AutoModelForCausalLM, AutoTokenizer, pipeline\n",
    "from peft import PeftModel\n",
    "import torch\n",
    "from trl import setup_chat_format\n",
    "# Reload tokenizer and model\n",
    "tokenizer = AutoTokenizer.from_pretrained(base_model)\n",
    "\n",
    "base_model_reload = AutoModelForCausalLM.from_pretrained(\n",
    "        base_model,\n",
    "        return_dict=True,\n",
    "        low_cpu_mem_usage=True,\n",
    "        torch_dtype=torch.float16,\n",
    "        device_map=\"auto\",\n",
    "        trust_remote_code=True,\n",
    ")\n",
    "\n",
    "base_model_reload, tokenizer = setup_chat_format(base_model_reload, tokenizer)\n",
    "\n",
    "# Merge adapter with base model\n",
    "model = PeftModel.from_pretrained(base_model_reload, new_model + \"_temp\")\n",
    "\n",
    "merged_model = model.merge_and_unload()"
   ]
  },
  {
   "cell_type": "markdown",
   "id": "91760a02-2e76-4956-af4d-7204305c7562",
   "metadata": {},
   "source": [
    "## Test model\n",
    "After merging, we can test the model."
   ]
  },
  {
   "cell_type": "code",
   "execution_count": 3,
   "id": "53bf3d89-b421-4463-8578-45c80de01621",
   "metadata": {},
   "outputs": [
    {
     "name": "stderr",
     "output_type": "stream",
     "text": [
      "C:\\Users\\haase\\miniconda3\\envs\\genai-gpu\\Lib\\site-packages\\transformers\\models\\gemma\\modeling_gemma.py:482: UserWarning: 1Torch was not compiled with flash attention. (Triggered internally at C:\\cb\\pytorch_1000000000000\\work\\aten\\src\\ATen\\native\\transformers\\cuda\\sdp_utils.cpp:555.)\n",
      "  attn_output = torch.nn.functional.scaled_dot_product_attention(\n"
     ]
    },
    {
     "name": "stdout",
     "output_type": "stream",
     "text": [
      "<|im_start|>user\n",
      "\n",
      "Write Python code to load the image ../11a_prompt_engineering/data/blobs.tif,\n",
      "segment the nuclei in it and\n",
      "show the result\n",
      "<|im_end|>\n",
      "<|im_start|>assistant\n",
      "The code imports the necessary libraries, loads the image, segments it using the Voronoi-Otsu algorithm, and displays the resulting image.\n",
      "\n",
      "```python\n",
      "\n",
      "import pyclesperanto_prototype as cle\n",
      "from skimage.io import imread\n",
      "\n",
      "image = imread(\"../11a_prompt_engineering/data/blobs.tif\")\n",
      "\n",
      "cle.voronoi_otsu_segmentation(image)\n",
      "\n",
      "cle.imshow(image)\n",
      "\n",
      "```\n",
      "This code imports the necessary libraries, loads the image, segments it using the Voronoi-Otsu algorithm, and displays the resulting image.\n"
     ]
    }
   ],
   "source": [
    "messages = [{\"role\": \"user\", \"content\": \"\"\"\n",
    "Write Python code to load the image ../11a_prompt_engineering/data/blobs.tif,\n",
    "segment the nuclei in it and\n",
    "show the result\n",
    "\"\"\"}]\n",
    "\n",
    "prompt = tokenizer.apply_chat_template(messages, tokenize=False, add_generation_prompt=True)\n",
    "pipe = pipeline(\n",
    "    \"text-generation\",\n",
    "    model=merged_model,\n",
    "    tokenizer=tokenizer,\n",
    "    torch_dtype=torch.float16,\n",
    "    device_map=\"auto\",\n",
    ")\n",
    "\n",
    "outputs = pipe(prompt, max_new_tokens=120, do_sample=True, temperature=0.7, top_k=50, top_p=0.95)\n",
    "print(outputs[0][\"generated_text\"])"
   ]
  },
  {
   "cell_type": "code",
   "execution_count": 4,
   "id": "d2b1aeb7-b9dc-4771-9941-3fc065dcb7d6",
   "metadata": {},
   "outputs": [],
   "source": [
    "merged_model.save_pretrained(new_model)"
   ]
  },
  {
   "cell_type": "code",
   "execution_count": null,
   "id": "562a663b-432d-4fbb-b60a-1795aa738e29",
   "metadata": {},
   "outputs": [],
   "source": []
  },
  {
   "cell_type": "code",
   "execution_count": 7,
   "id": "23342f46-b723-4ca9-9796-9093cc260794",
   "metadata": {},
   "outputs": [],
   "source": [
    "#merged_model.push_to_hub(new_model, use_temp_dir=False)"
   ]
  },
  {
   "cell_type": "code",
   "execution_count": null,
   "id": "1a3c58bb-4769-4d6a-81b7-d4c035ba4919",
   "metadata": {},
   "outputs": [],
   "source": []
  }
 ],
 "metadata": {
  "kernelspec": {
   "display_name": "Python 3 (ipykernel)",
   "language": "python",
   "name": "python3"
  },
  "language_info": {
   "codemirror_mode": {
    "name": "ipython",
    "version": 3
   },
   "file_extension": ".py",
   "mimetype": "text/x-python",
   "name": "python",
   "nbconvert_exporter": "python",
   "pygments_lexer": "ipython3",
   "version": "3.11.9"
  }
 },
 "nbformat": 4,
 "nbformat_minor": 5
}
