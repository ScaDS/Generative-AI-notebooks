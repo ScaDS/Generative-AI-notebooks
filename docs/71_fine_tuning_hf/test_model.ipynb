{
 "cells": [
  {
   "cell_type": "markdown",
   "id": "f1cd554b-2318-41d1-969f-46d7cafd1b40",
   "metadata": {},
   "source": [
    "# Testing the model\n",
    "Here we just test our fine-tuned model."
   ]
  },
  {
   "cell_type": "code",
   "execution_count": 1,
   "id": "f432220e-2e47-4a55-99bc-d68c5de7a999",
   "metadata": {},
   "outputs": [
    {
     "name": "stdout",
     "output_type": "stream",
     "text": [
      "Special Tokens: {'bos_token': '<|im_start|>', 'eos_token': '<|im_end|>', 'unk_token': '<|endoftext|>', 'pad_token': '<|im_end|>', 'additional_special_tokens': ['<|im_start|>', '<|im_end|>']}\n"
     ]
    }
   ],
   "source": [
    "import transformers\n",
    "\n",
    "model_name=\"SmolLM-1.7B-bia-proof-of-concept_temp\"\n",
    "\n",
    "# Load the tokenizer for the specified model\n",
    "tokenizer = transformers.AutoTokenizer.from_pretrained(model_name)\n",
    "\n",
    "# Print all special tokens\n",
    "print(\"Special Tokens:\", tokenizer.special_tokens_map)\n",
    "\n",
    "# Get the EOS token\n",
    "eos_token = tokenizer.eos_token\n",
    "#eos_token_id = tokenizer.eos_token_id\n"
   ]
  },
  {
   "cell_type": "code",
   "execution_count": 3,
   "id": "bcdcf153-9f05-40d4-9530-a1b12fc8fad2",
   "metadata": {},
   "outputs": [],
   "source": [
    "#We should add unk_token to the end of our training data sets"
   ]
  },
  {
   "cell_type": "code",
   "execution_count": 4,
   "id": "be1df990-5cbf-4f3e-9059-9fae25f8d3ae",
   "metadata": {},
   "outputs": [],
   "source": [
    "def prompt_hf(request, model=\"SmolLM-1.7B-bia-proof-of-concept_temp\"):\n",
    "    global prompt_hf\n",
    "    import transformers\n",
    "    import torch\n",
    "    \n",
    "    if prompt_hf._pipeline is None:    \n",
    "        prompt_hf._pipeline = transformers.pipeline(\n",
    "            \"text-generation\", model=model, model_kwargs={\"torch_dtype\": torch.bfloat16}, device_map=\"auto\",\n",
    "             max_new_tokens=300, pad_token_id=50256\n",
    "        )\n",
    "\n",
    "    print(\"eos_token\", eos_token)\n",
    "    print(\"prompt_hf._pipeline.tokenizer.convert_tokens_to_ids(eos_token)\", prompt_hf._pipeline.tokenizer.convert_tokens_to_ids(eos_token))\n",
    "    \n",
    "    return prompt_hf._pipeline(request,\n",
    "                              num_return_sequences=1,\n",
    "                              #no_repeat_ngram_size=3,  # Prevent repetition of 3-grams\n",
    "                              #repetition_penalty=1.2,  # Penalize repetition\n",
    "                              #top_k=50,  # Limit to top 50 tokens to sample from\n",
    "                              #top_p=0.95,  # Nucleus sampling to keep only top 95% probability mass\n",
    "                              eos_token_id=prompt_hf._pipeline.tokenizer.convert_tokens_to_ids(eos_token)\n",
    "                            )[0]['generated_text']\n",
    "prompt_hf._pipeline = None"
   ]
  },
  {
   "cell_type": "code",
   "execution_count": 5,
   "id": "958d16ef-f3fa-412f-be38-76101d63a2e5",
   "metadata": {},
   "outputs": [
    {
     "data": {
      "application/vnd.jupyter.widget-view+json": {
       "model_id": "2485f68e88e74525b4d9ec1c5055d5e8",
       "version_major": 2,
       "version_minor": 0
      },
      "text/plain": [
       "Loading checkpoint shards:   0%|          | 0/2 [00:00<?, ?it/s]"
      ]
     },
     "metadata": {},
     "output_type": "display_data"
    },
    {
     "name": "stdout",
     "output_type": "stream",
     "text": [
      "eos_token <|im_end|>\n",
      "prompt_hf._pipeline.tokenizer.convert_tokens_to_ids(eos_token) 2\n"
     ]
    },
    {
     "name": "stderr",
     "output_type": "stream",
     "text": [
      "C:\\Users\\rober\\miniforge3\\envs\\genai-gpu\\Lib\\site-packages\\transformers\\models\\llama\\modeling_llama.py:660: UserWarning: 1Torch was not compiled with flash attention. (Triggered internally at C:\\cb\\pytorch_1000000000000\\work\\aten\\src\\ATen\\native\\transformers\\cuda\\sdp_utils.cpp:555.)\n",
      "  attn_output = torch.nn.functional.scaled_dot_product_attention(\n"
     ]
    },
    {
     "name": "stdout",
     "output_type": "stream",
     "text": [
      "Write Python code for cropping an image in X and Y to coordinates 10-20 and 30-50.\n",
      "\n",
      "import cv2\n",
      "import numpy as np\n",
      "\n",
      "img = cv2.imread('../images/lena.jpg')\n",
      "\n",
      "# Cropping the image in X and Y to coordinates 10-20 and 30-50\n",
      "cropped_img = img[10:20, 30:50]\n",
      "\n",
      "# Display the cropped image\n",
      "cv2.imshow('Cropped Image', cropped_img)\n",
      "cv2.waitKey(0)\n",
      "cv2.destroyAllWindows()\n",
      "\n",
      "# Cropping the image in X and Y to coordinates 10-20 and 30-50\n",
      "cropped_img = img[10:20, 30:50]\n",
      "\n",
      "# Display the cropped image\n",
      "cv2.imshow('Cropped Image', cropped_img)\n",
      "cv2.waitKey(0)\n",
      "cv2.destroyAllWindows()\n",
      "\n",
      "# Cropping the image in X and Y to coordinates 10-20 and 30-50\n",
      "cropped_img = img[10:20, 30:50]\n",
      "\n",
      "# Display the cropped image\n",
      "cv2.imshow('Cropped Image', cropped_img)\n",
      "cv2.waitKey(0)\n",
      "cv2.destroyAllWindows()\n",
      "\n",
      "# Cropping the image in X and Y to coordinates \n"
     ]
    }
   ],
   "source": [
    "from IPython.display import Markdown, display\n",
    "result = prompt_hf(\"Write Python code for cropping an image in X and Y to coordinates 10-20 and 30-50\")\n",
    "\n",
    "print(result)"
   ]
  },
  {
   "cell_type": "code",
   "execution_count": null,
   "id": "d0a04961-d213-47d2-a218-8eacd242a35d",
   "metadata": {},
   "outputs": [],
   "source": []
  },
  {
   "cell_type": "code",
   "execution_count": null,
   "id": "fe510972-8e02-4087-9faf-afc85bdab11a",
   "metadata": {},
   "outputs": [],
   "source": []
  }
 ],
 "metadata": {
  "kernelspec": {
   "display_name": "Python 3 (ipykernel)",
   "language": "python",
   "name": "python3"
  },
  "language_info": {
   "codemirror_mode": {
    "name": "ipython",
    "version": 3
   },
   "file_extension": ".py",
   "mimetype": "text/x-python",
   "name": "python",
   "nbconvert_exporter": "python",
   "pygments_lexer": "ipython3",
   "version": "3.11.9"
  }
 },
 "nbformat": 4,
 "nbformat_minor": 5
}
