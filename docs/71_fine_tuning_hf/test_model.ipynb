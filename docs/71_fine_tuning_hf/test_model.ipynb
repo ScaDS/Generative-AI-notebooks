{
 "cells": [
  {
   "cell_type": "markdown",
   "id": "f1cd554b-2318-41d1-969f-46d7cafd1b40",
   "metadata": {},
   "source": [
    "# Testing the model\n",
    "Here we just test our fine-tuned model."
   ]
  },
  {
   "cell_type": "code",
   "execution_count": 1,
   "id": "be1df990-5cbf-4f3e-9059-9fae25f8d3ae",
   "metadata": {},
   "outputs": [],
   "source": [
    "def prompt_hf(request, model=\"haesleinhuepf/Llama-3.1-Minitron-4B-Depth-BIA-proof-of-concept\"):\n",
    "    global prompt_hf\n",
    "    import transformers\n",
    "    import torch\n",
    "    \n",
    "    if prompt_hf._pipeline is None:    \n",
    "        prompt_hf._pipeline = transformers.pipeline(\n",
    "            \"text-generation\", model=model, model_kwargs={\"torch_dtype\": torch.bfloat16}, device_map=\"auto\",\n",
    "             max_new_tokens=1000\n",
    "        )\n",
    "    \n",
    "    return prompt_hf._pipeline(request)[0]['generated_text']\n",
    "prompt_hf._pipeline = None"
   ]
  },
  {
   "cell_type": "code",
   "execution_count": 2,
   "id": "958d16ef-f3fa-412f-be38-76101d63a2e5",
   "metadata": {},
   "outputs": [
    {
     "data": {
      "application/vnd.jupyter.widget-view+json": {
       "model_id": "0d91bd6141c5474d980f23e2145d46ab",
       "version_major": 2,
       "version_minor": 0
      },
      "text/plain": [
       "Downloading shards:   0%|          | 0/2 [00:00<?, ?it/s]"
      ]
     },
     "metadata": {},
     "output_type": "display_data"
    },
    {
     "data": {
      "application/vnd.jupyter.widget-view+json": {
       "model_id": "628f21928a4b42658840ea579f202bec",
       "version_major": 2,
       "version_minor": 0
      },
      "text/plain": [
       "Loading checkpoint shards:   0%|          | 0/2 [00:00<?, ?it/s]"
      ]
     },
     "metadata": {},
     "output_type": "display_data"
    },
    {
     "name": "stderr",
     "output_type": "stream",
     "text": [
      "Setting `pad_token_id` to `eos_token_id`:128001 for open-end generation.\n",
      "C:\\Users\\rober\\miniconda3\\envs\\genai-gpu\\Lib\\site-packages\\transformers\\models\\llama\\modeling_llama.py:603: UserWarning: 1Torch was not compiled with flash attention. (Triggered internally at C:\\cb\\pytorch_1000000000000\\work\\aten\\src\\ATen\\native\\transformers\\cuda\\sdp_utils.cpp:555.)\n",
      "  attn_output = torch.nn.functional.scaled_dot_product_attention(\n"
     ]
    },
    {
     "data": {
      "text/markdown": [
       "Write Python code for cropping an image in X and Y to coordinates 10-20 and 30-50. The code should be able to crop the image in any direction. For example, if the image is rotated 90 degrees, the code should still crop the image in the same way. The code should also be able to crop the image in any direction, such as 45 degrees or 135 degrees. The code should also be able to crop the image in any size, such as 10x10 or 100x100. The code should also be able to crop the image in any orientation, such as horizontal or vertical. The code should also be able to crop the image in any color, such as black and white or color. The code should also be able to crop the image in any format, such as JPEG or PNG. The code should also be able to crop the image in any size, such as 10x10 or 100x100. The code should also be able to crop the image in any orientation, such as horizontal or vertical. The code should also be able to crop the image in any color, such as black and white or color. The code should also be able to crop the image in any format, such as JPEG or PNG. The code should also be able to crop the image in any size, such as 10x10 or 100x100. The code should also be able to crop the image in any orientation, such as horizontal or vertical. The code should also be able to crop the image in any color, such as black and white or color. The code should also be able to crop the image in any format, such as JPEG or PNG. The code should also be able to crop the image in any size, such as 10x10 or 100x100. The code should also be able to crop the image in any orientation, such as horizontal or vertical. The code should also be able to crop the image in any color, such as black and white or color. The code should also be able to crop the image in any format, such as JPEG or PNG. The code should also be able to crop the image in any size, such as 10x10 or 100x100. The code should also be able to crop the image in any orientation, such as horizontal or vertical. The code should also be able to crop the image in any color, such as black and white or color. The code should also be able to crop the image in any format, such as JPEG or PNG. The code should also be able to crop the image in any size, such as 10x10 or 100x100. The code should also be able to crop the image in any orientation, such as horizontal or vertical. The code should also be able to crop the image in any color, such as black and white or color. The code should also be able to crop the image in any format, such as JPEG or PNG. The code should also be able to crop the image in any size, such as 10x10 or 100x100. The code should also be able to crop the image in any orientation, such as horizontal or vertical. The code should also be able to crop the image in any color, such as black and white or color. The code should also be able to crop the image in any format, such as JPEG or PNG. The code should also be able to crop the image in any size, such as 10x10 or 100x100. The code should also be able to crop the image in any orientation, such as horizontal or vertical. The code should also be able to crop the image in any color, such as black and white or color. The code should also be able to crop the image in any format, such as JPEG or PNG. The code should also be able to crop the image in any size, such as 10x10 or 100x100. The code should also be able to crop the image in any orientation, such as horizontal or vertical. The code should also be able to crop the image in any color, such as black and white or color. The code should also be able to crop the image in any format, such as JPEG or PNG. The code should also be able to crop the image in any size, such as 10x10 or 100x100. The code should also be able to crop the image in any orientation, such as horizontal or vertical. The code should also be able to crop the image in any color, such as black and white or color. The code should also be able to crop the image in any format, such as JPEG or PNG. The code should also be able to crop the image in any size, such as 10x10 or 100x100. The code should also be able to crop the image in any orientation, such as horizontal or vertical. The code should also be able to crop the image in any"
      ],
      "text/plain": [
       "<IPython.core.display.Markdown object>"
      ]
     },
     "metadata": {},
     "output_type": "display_data"
    }
   ],
   "source": [
    "from IPython.display import Markdown, display\n",
    "result = prompt_hf(\"Write Python code for cropping an image in X and Y to coordinates 10-20 and 30-50\")\n",
    "display(Markdown(result))"
   ]
  },
  {
   "cell_type": "code",
   "execution_count": null,
   "id": "d0a04961-d213-47d2-a218-8eacd242a35d",
   "metadata": {},
   "outputs": [],
   "source": []
  }
 ],
 "metadata": {
  "kernelspec": {
   "display_name": "Python 3 (ipykernel)",
   "language": "python",
   "name": "python3"
  },
  "language_info": {
   "codemirror_mode": {
    "name": "ipython",
    "version": 3
   },
   "file_extension": ".py",
   "mimetype": "text/x-python",
   "name": "python",
   "nbconvert_exporter": "python",
   "pygments_lexer": "ipython3",
   "version": "3.11.9"
  }
 },
 "nbformat": 4,
 "nbformat_minor": 5
}
