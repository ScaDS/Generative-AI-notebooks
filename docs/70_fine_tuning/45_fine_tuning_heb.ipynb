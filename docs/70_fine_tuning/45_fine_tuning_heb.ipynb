{
 "cells": [
  {
   "cell_type": "markdown",
   "id": "4e5023a8-beb3-4eff-904b-1a2f89aaee01",
   "metadata": {},
   "source": [
    "# Fine-tuning a model from questions and answers\n",
    "In this notebook we take a the [human-eval-bia dataset](https://github.com/haesleinhuepf/human-eval-bia) to fine-tune OpenAI gpt4omni.\n",
    "\n",
    "Read more about [fine tuning OpenAI models](https://platform.openai.com/docs/guides/fine-tuning)."
   ]
  },
  {
   "cell_type": "code",
   "execution_count": 1,
   "id": "9fb7e07a-ac74-4339-b19c-ce66a4967c20",
   "metadata": {},
   "outputs": [],
   "source": [
    "import requests\n",
    "import json\n",
    "import pandas as pd\n",
    "import time\n",
    "import os\n",
    "import openai\n",
    "from sklearn.model_selection import train_test_split\n",
    "from fine_tuning_utilities import load_jsonl_file, save_jsonl_file"
   ]
  },
  {
   "cell_type": "code",
   "execution_count": 2,
   "id": "a2d7e1cd-1f75-42c5-9fcb-339d6ec0e5a1",
   "metadata": {},
   "outputs": [
    {
     "data": {
      "text/html": [
       "<div>\n",
       "<style scoped>\n",
       "    .dataframe tbody tr th:only-of-type {\n",
       "        vertical-align: middle;\n",
       "    }\n",
       "\n",
       "    .dataframe tbody tr th {\n",
       "        vertical-align: top;\n",
       "    }\n",
       "\n",
       "    .dataframe thead th {\n",
       "        text-align: right;\n",
       "    }\n",
       "</style>\n",
       "<table border=\"1\" class=\"dataframe\">\n",
       "  <thead>\n",
       "    <tr style=\"text-align: right;\">\n",
       "      <th></th>\n",
       "      <th>task_id</th>\n",
       "      <th>prompt</th>\n",
       "      <th>canonical_solution</th>\n",
       "      <th>entry_point</th>\n",
       "      <th>test</th>\n",
       "    </tr>\n",
       "  </thead>\n",
       "  <tbody>\n",
       "    <tr>\n",
       "      <th>0</th>\n",
       "      <td>../test_cases/apply_otsu_threshold_and_count_p...</td>\n",
       "      <td>def apply_otsu_threshold_and_count_postiive_pi...</td>\n",
       "      <td>\\n    import skimage\\n    import numpy as np\\n...</td>\n",
       "      <td>apply_otsu_threshold_and_count_postiive_pixels</td>\n",
       "      <td>def check(candidate):\\n    import numpy as np\\...</td>\n",
       "    </tr>\n",
       "    <tr>\n",
       "      <th>1</th>\n",
       "      <td>../test_cases/binary_closing.ipynb</td>\n",
       "      <td>def binary_closing(binary_image, radius:int=1)...</td>\n",
       "      <td>\\n    import numpy as np\\n    import skimage\\n...</td>\n",
       "      <td>binary_closing</td>\n",
       "      <td>def check(candidate):\\n    import numpy as np\\...</td>\n",
       "    </tr>\n",
       "  </tbody>\n",
       "</table>\n",
       "</div>"
      ],
      "text/plain": [
       "                                             task_id  \\\n",
       "0  ../test_cases/apply_otsu_threshold_and_count_p...   \n",
       "1                 ../test_cases/binary_closing.ipynb   \n",
       "\n",
       "                                              prompt  \\\n",
       "0  def apply_otsu_threshold_and_count_postiive_pi...   \n",
       "1  def binary_closing(binary_image, radius:int=1)...   \n",
       "\n",
       "                                  canonical_solution  \\\n",
       "0  \\n    import skimage\\n    import numpy as np\\n...   \n",
       "1  \\n    import numpy as np\\n    import skimage\\n...   \n",
       "\n",
       "                                      entry_point  \\\n",
       "0  apply_otsu_threshold_and_count_postiive_pixels   \n",
       "1                                  binary_closing   \n",
       "\n",
       "                                                test  \n",
       "0  def check(candidate):\\n    import numpy as np\\...  \n",
       "1  def check(candidate):\\n    import numpy as np\\...  "
      ]
     },
     "execution_count": 2,
     "metadata": {},
     "output_type": "execute_result"
    }
   ],
   "source": [
    "url = \"https://raw.githubusercontent.com/haesleinhuepf/human-eval-bia/main/data/human-eval-bia.jsonl\"\n",
    "\n",
    "response = requests.get(url)\n",
    "data = [json.loads(line) for line in response.text.splitlines()]\n",
    "df = pd.DataFrame(data)\n",
    "\n",
    "df.head(2)"
   ]
  },
  {
   "cell_type": "markdown",
   "id": "c4dac779-0816-4fbc-863b-4de100f94b69",
   "metadata": {},
   "source": [
    "First, we need to convert the data frame into jsonl format representing conversions between user and assistant as required by OpenAI."
   ]
  },
  {
   "cell_type": "code",
   "execution_count": 3,
   "id": "4366856b-6ef7-49e9-a9c0-f5068155d629",
   "metadata": {},
   "outputs": [
    {
     "data": {
      "text/plain": [
       "[{'messages': [{'role': 'user',\n",
       "    'content': 'def apply_otsu_threshold_and_count_postiive_pixels(image):\\n    \"\"\"\\n    Takes an image, applies Otsu\\'s threshold method to it to create a binary image and \\n    counts the positive pixels.\\n    \"\"\"'},\n",
       "   {'role': 'assistant',\n",
       "    'content': '\\n    import skimage\\n    import numpy as np\\n    binary_image = image > skimage.filters.threshold_otsu(image)\\n\\n    result = np.sum(binary_image)\\n\\n    return result'}]},\n",
       " {'messages': [{'role': 'user',\n",
       "    'content': 'def binary_closing(binary_image, radius:int=1):\\n    \"\"\"\\n    Applies binary closing to a binary_image with a square footprint with a given radius.\\n    \"\"\"'},\n",
       "   {'role': 'assistant',\n",
       "    'content': '\\n    import numpy as np\\n    import skimage\\n    size = radius * 2 + 1\\n    return skimage.morphology.binary_closing(binary_image, footprint=np.ones((size, size)))'}]}]"
      ]
     },
     "execution_count": 3,
     "metadata": {},
     "output_type": "execute_result"
    }
   ],
   "source": [
    "all_data = []\n",
    "\n",
    "for index, row in df.iterrows():\n",
    "    messages_dict = {\n",
    "        \"messages\": [\n",
    "            {\"role\": \"user\", \"content\": row['prompt']},\n",
    "            {\"role\": \"assistant\", \"content\": row['canonical_solution']}\n",
    "        ]\n",
    "    }\n",
    "    all_data.append(messages_dict)\n",
    "\n",
    "all_data[:2]"
   ]
  },
  {
   "cell_type": "code",
   "execution_count": 4,
   "id": "09a3de22-231a-43b0-9c5d-c6381b92b4eb",
   "metadata": {},
   "outputs": [
    {
     "data": {
      "text/plain": [
       "(45, 12)"
      ]
     },
     "execution_count": 4,
     "metadata": {},
     "output_type": "execute_result"
    }
   ],
   "source": [
    "training_data, validation_data = train_test_split(all_data, test_size=0.2, random_state=42)\n",
    "\n",
    "len(training_data), len(validation_data)"
   ]
  },
  {
   "cell_type": "code",
   "execution_count": 5,
   "id": "eb825aa2-a7f9-401d-80d9-aac22a80a8c9",
   "metadata": {},
   "outputs": [],
   "source": [
    "# save training data to a temporary file\n",
    "training_data_file_path = \"training_data.jsonl\"\n",
    "save_jsonl_file(training_data, training_data_file_path)\n",
    "\n",
    "validation_data_file_path = \"validation_data.jsonl\"\n",
    "save_jsonl_file(validation_data, validation_data_file_path)"
   ]
  },
  {
   "cell_type": "markdown",
   "id": "e3a1ea9a-ef8c-4f22-98f9-70a2481bebd1",
   "metadata": {},
   "source": [
    "We just initialize a client to the OpenAI API."
   ]
  },
  {
   "cell_type": "code",
   "execution_count": 6,
   "id": "39e3f25a-6e61-4c70-8c80-e23b330f5286",
   "metadata": {},
   "outputs": [],
   "source": [
    "client = openai.OpenAI()"
   ]
  },
  {
   "cell_type": "markdown",
   "id": "1005b021-8780-4b02-960f-9fff12ca17e9",
   "metadata": {},
   "source": [
    "... and upload files:"
   ]
  },
  {
   "cell_type": "code",
   "execution_count": 7,
   "id": "89676f32-ab85-4264-9d0a-92a26bbfb342",
   "metadata": {},
   "outputs": [
    {
     "name": "stdout",
     "output_type": "stream",
     "text": [
      "Uploading / preprocessing done.\n"
     ]
    }
   ],
   "source": [
    "training_file = client.files.create(\n",
    "    file=open(training_data_file_path, \"rb\"),\n",
    "    purpose='fine-tune',\n",
    ")\n",
    "validation_file = client.files.create(\n",
    "    file=open(validation_data_file_path, \"rb\"),\n",
    "    purpose='fine-tune',\n",
    ")\n",
    "\n",
    "# wait until preprocessing is finished\n",
    "while client.files.retrieve(training_file.id).status != \"processed\" or client.files.retrieve(validation_file.id).status != \"processed\":\n",
    "    time.sleep(30)\n",
    "\n",
    "print(\"Uploading / preprocessing done.\")"
   ]
  },
  {
   "cell_type": "code",
   "execution_count": 8,
   "id": "b6326a4e-cec4-4ada-a791-bc0c5fd3e2f5",
   "metadata": {},
   "outputs": [
    {
     "data": {
      "text/plain": [
       "FineTuningJob(id='ftjob-vtKSrOY5233kun4fkBYjlQXz', created_at=1724232888, error=Error(code=None, message=None, param=None), fine_tuned_model=None, finished_at=None, hyperparameters=Hyperparameters(n_epochs='auto', batch_size='auto', learning_rate_multiplier='auto'), model='gpt-4o-2024-08-06', object='fine_tuning.job', organization_id='org-0POmhzyaeDng5lZtM7Cls3vt', result_files=[], seed=59560052, status='validating_files', trained_tokens=None, training_file='file-xGVvsjSuhLPq1JHCGTJaKJHS', validation_file='file-TCGaIoxNChEdyoItiN6O4CzV', estimated_finish=None, integrations=[], user_provided_suffix=None)"
      ]
     },
     "execution_count": 8,
     "metadata": {},
     "output_type": "execute_result"
    }
   ],
   "source": [
    "# start fine-tuning\n",
    "fine_tuning_job = client.fine_tuning.jobs.create(\n",
    "                        training_file=training_file.id, \n",
    "                        validation_file=validation_file.id,\n",
    "                        model=\"gpt-4o-2024-08-06\")\n",
    "fine_tuning_job"
   ]
  },
  {
   "cell_type": "code",
   "execution_count": 9,
   "id": "d6a1a83a-4c4d-460d-9dc2-8734e472748b",
   "metadata": {
    "tags": []
   },
   "outputs": [
    {
     "data": {
      "text/plain": [
       "FineTuningJob(id='ftjob-vtKSrOY5233kun4fkBYjlQXz', created_at=1724232888, error=Error(code=None, message=None, param=None), fine_tuned_model=None, finished_at=None, hyperparameters=Hyperparameters(n_epochs='auto', batch_size='auto', learning_rate_multiplier='auto'), model='gpt-4o-2024-08-06', object='fine_tuning.job', organization_id='org-0POmhzyaeDng5lZtM7Cls3vt', result_files=[], seed=59560052, status='validating_files', trained_tokens=None, training_file='file-xGVvsjSuhLPq1JHCGTJaKJHS', validation_file='file-TCGaIoxNChEdyoItiN6O4CzV', estimated_finish=None, integrations=[], user_provided_suffix=None)"
      ]
     },
     "execution_count": 9,
     "metadata": {},
     "output_type": "execute_result"
    }
   ],
   "source": [
    "job_details = client.fine_tuning.jobs.retrieve(\n",
    "                        fine_tuning_job.id)\n",
    "job_details"
   ]
  },
  {
   "cell_type": "code",
   "execution_count": 10,
   "id": "a6c09603-7191-4979-9924-16d6beac89b9",
   "metadata": {
    "tags": []
   },
   "outputs": [
    {
     "data": {
      "text/plain": [
       "'validating_files'"
      ]
     },
     "execution_count": 10,
     "metadata": {},
     "output_type": "execute_result"
    }
   ],
   "source": [
    "job_details.status"
   ]
  },
  {
   "cell_type": "code",
   "execution_count": 11,
   "id": "2e5c0ac6-cdd4-40ea-9bc4-924647171e68",
   "metadata": {
    "tags": []
   },
   "outputs": [
    {
     "data": {
      "text/plain": [
       "'validating_files'"
      ]
     },
     "execution_count": 11,
     "metadata": {},
     "output_type": "execute_result"
    }
   ],
   "source": [
    "job_details = client.fine_tuning.jobs.retrieve(fine_tuning_job.id)\n",
    "job_details.status"
   ]
  },
  {
   "cell_type": "code",
   "execution_count": 12,
   "id": "18caab62-ded9-49e4-9fee-6f6a34be9085",
   "metadata": {
    "tags": []
   },
   "outputs": [
    {
     "data": {
      "text/plain": [
       "Error(code=None, message=None, param=None)"
      ]
     },
     "execution_count": 12,
     "metadata": {},
     "output_type": "execute_result"
    }
   ],
   "source": [
    "job_details = client.fine_tuning.jobs.retrieve(fine_tuning_job.id)\n",
    "job_details.error"
   ]
  },
  {
   "cell_type": "markdown",
   "id": "26a9e9fb-950d-4207-8edd-4c3a838bfc8a",
   "metadata": {},
   "source": [
    "In case you don't want to run the cell above repeatedly manually, one can also run such a request in a loop:"
   ]
  },
  {
   "cell_type": "code",
   "execution_count": 13,
   "id": "277551cc-7452-488e-b739-4a0f8c0de891",
   "metadata": {},
   "outputs": [
    {
     "data": {
      "text/plain": [
       "'succeeded'"
      ]
     },
     "execution_count": 13,
     "metadata": {},
     "output_type": "execute_result"
    }
   ],
   "source": [
    "while client.fine_tuning.jobs.retrieve(fine_tuning_job.id).status not in [\"succeeded\", \"failed\"]:\n",
    "    time.sleep(120)\n",
    "\n",
    "job_details = client.fine_tuning.jobs.retrieve(\n",
    "                fine_tuning_job.id)\n",
    "job_details.status "
   ]
  },
  {
   "cell_type": "code",
   "execution_count": 14,
   "id": "00120f6c-a215-4703-b9ae-0b80da1393c4",
   "metadata": {},
   "outputs": [
    {
     "data": {
      "text/plain": [
       "Error(code=None, message=None, param=None)"
      ]
     },
     "execution_count": 14,
     "metadata": {},
     "output_type": "execute_result"
    }
   ],
   "source": [
    "job_details.error"
   ]
  },
  {
   "cell_type": "markdown",
   "id": "635e038d-7dd0-437d-8231-3ba5e43077ba",
   "metadata": {},
   "source": [
    "## Retrieving the new model name\n",
    "Once done, one can retrieve the name of the fine-tuned model like this:"
   ]
  },
  {
   "cell_type": "code",
   "execution_count": 15,
   "id": "94eabed7-8d8b-458f-b8ec-9b3d9bc0fca5",
   "metadata": {},
   "outputs": [
    {
     "data": {
      "text/plain": [
       "'ft:gpt-4o-2024-08-06:leipzig-university::9ydjNWWH'"
      ]
     },
     "execution_count": 15,
     "metadata": {},
     "output_type": "execute_result"
    }
   ],
   "source": [
    "model_name = job_details.fine_tuned_model\n",
    "model_name"
   ]
  },
  {
   "cell_type": "markdown",
   "id": "dd9f9652-6e5a-4f1c-8a72-87311c74ba26",
   "metadata": {},
   "source": [
    "Final remark: Running this fine-tuning notebook costed about $0.27."
   ]
  },
  {
   "cell_type": "code",
   "execution_count": null,
   "id": "1c86217d-ee4a-4be2-a170-a883a96a456a",
   "metadata": {},
   "outputs": [],
   "source": []
  }
 ],
 "metadata": {
  "kernelspec": {
   "display_name": "Python 3 (ipykernel)",
   "language": "python",
   "name": "python3"
  },
  "language_info": {
   "codemirror_mode": {
    "name": "ipython",
    "version": 3
   },
   "file_extension": ".py",
   "mimetype": "text/x-python",
   "name": "python",
   "nbconvert_exporter": "python",
   "pygments_lexer": "ipython3",
   "version": "3.10.14"
  }
 },
 "nbformat": 4,
 "nbformat_minor": 5
}
