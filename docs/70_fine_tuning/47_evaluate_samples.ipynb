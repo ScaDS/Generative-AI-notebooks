{
 "cells": [
  {
   "cell_type": "markdown",
   "id": "368c69e8-097d-44ef-8a2b-93696b9cbeb6",
   "metadata": {},
   "source": [
    "* https://github.com/haesleinhuepf/human-eval-bia/blob/main/demo/evaluate_samples.ipynb\n",
    "\n",
    "In order to make this notebook work, install human-eval-bia as explained [here](https://github.com/haesleinhuepf/human-eval-bia/tree/main?tab=readme-ov-file#installation):\n",
    "```\n",
    "git clone https://github.com/haesleinhuepf/human-eval-bia/\n",
    "cd human-eval-bia\n",
    "pip install -e .\n",
    "pip install -r requirements.txt\n",
    "``` "
   ]
  },
  {
   "cell_type": "code",
   "execution_count": null,
   "id": "235a26b4-8f5d-40e4-8c10-c9dbc5b656b3",
   "metadata": {},
   "outputs": [],
   "source": [
    "from human_eval.evaluation import evaluate_functional_correctness\n",
    "import os\n",
    "import pandas as pd"
   ]
  },
  {
   "cell_type": "code",
   "execution_count": 2,
   "id": "f88d15ef-ce96-4235-8e7f-304875aee122",
   "metadata": {},
   "outputs": [],
   "source": [
    "directory = \"data/\"\n",
    "k = [1, 5, 10]\n",
    "timeout = 300\n",
    "n_workers = 8"
   ]
  },
  {
   "cell_type": "code",
   "execution_count": null,
   "id": "166addf0-9479-47ab-a7d4-1412573ed93f",
   "metadata": {},
   "outputs": [],
   "source": [
    "for filename in os.listdir(directory):\n",
    "    if filename.endswith(\".jsonl\") and \"_results.jsonl\" not in filename and \"human-eval\" not in filename:\n",
    "        sample_file = filename\n",
    "\n",
    "        if \"training\" in sample_file:\n",
    "            problem_file = \"training_human-eval-bia.jsonl\"\n",
    "        else:\n",
    "            problem_file = \"validation_human-eval-bia.jsonl\"\n",
    "        \n",
    "        results = evaluate_functional_correctness(directory + sample_file, k, n_workers, timeout, directory + problem_file)\n",
    "\n",
    "        results = {k: [v] for k, v in results.items()}\n",
    "        \n",
    "        df = pd.DataFrame(results)\n",
    "        df.to_csv(directory + filename.replace(\".jsonl\", \"_passk_results.csv\"))"
   ]
  }
 ],
 "metadata": {
  "kernelspec": {
   "display_name": "Python 3 (ipykernel)",
   "language": "python",
   "name": "python3"
  },
  "language_info": {
   "codemirror_mode": {
    "name": "ipython",
    "version": 3
   },
   "file_extension": ".py",
   "mimetype": "text/x-python",
   "name": "python",
   "nbconvert_exporter": "python",
   "pygments_lexer": "ipython3",
   "version": "3.11.9"
  }
 },
 "nbformat": 4,
 "nbformat_minor": 5
}
